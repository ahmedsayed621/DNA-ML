{
 "cells": [
  {
   "cell_type": "code",
   "execution_count": 23,
   "id": "93ff4160",
   "metadata": {},
   "outputs": [
    {
     "name": "stdout",
     "output_type": "stream",
     "text": [
      "Collecting pandas==0.24.2\n",
      "  Downloading https://files.pythonhosted.org/packages/61/c7/f943fceb712579bc538700e2c157dc4972e16abfe29bd4969149bad98c74/pandas-0.24.2-cp37-cp37m-win_amd64.whl (9.0MB)\n",
      "Requirement already satisfied: numpy>=1.12.0 in c:\\users\\administrator\\anaconda3\\envs\\pytorchenv\\lib\\site-packages (from pandas==0.24.2) (1.21.6)\n",
      "Requirement already satisfied: python-dateutil>=2.5.0 in c:\\users\\administrator\\anaconda3\\envs\\pytorchenv\\lib\\site-packages (from pandas==0.24.2) (2.8.2)\n",
      "Requirement already satisfied: pytz>=2011k in c:\\users\\administrator\\anaconda3\\envs\\pytorchenv\\lib\\site-packages (from pandas==0.24.2) (2022.1)\n",
      "Requirement already satisfied: six>=1.5 in c:\\users\\administrator\\anaconda3\\envs\\pytorchenv\\lib\\site-packages (from python-dateutil>=2.5.0->pandas==0.24.2) (1.16.0)\n",
      "Installing collected packages: pandas\n",
      "  Found existing installation: pandas 1.3.5\n",
      "    Uninstalling pandas-1.3.5:\n",
      "      Successfully uninstalled pandas-1.3.5\n",
      "Successfully installed pandas-0.24.2\n"
     ]
    }
   ],
   "source": [
    "!pip install pandas==0.24.2"
   ]
  },
  {
   "cell_type": "code",
   "execution_count": 1,
   "id": "3ea8eccf",
   "metadata": {},
   "outputs": [],
   "source": [
    "filename='virus dataset.fasta'"
   ]
  },
  {
   "cell_type": "code",
   "execution_count": 2,
   "id": "85c6b1ad",
   "metadata": {},
   "outputs": [
    {
     "name": "stderr",
     "output_type": "stream",
     "text": [
      "C:\\Users\\Administrator\\anaconda3\\envs\\pytorchenv\\lib\\site-packages\\sklearn\\utils\\validation.py:37: DeprecationWarning: distutils Version classes are deprecated. Use packaging.version instead.\n",
      "  LARGE_SPARSE_SUPPORTED = LooseVersion(scipy_version) >= '0.14.0'\n",
      "C:\\Users\\Administrator\\anaconda3\\envs\\pytorchenv\\lib\\site-packages\\sklearn\\feature_extraction\\image.py:167: DeprecationWarning: `np.int` is a deprecated alias for the builtin `int`. To silence this warning, use `int` by itself. Doing this will not modify any behavior and is safe. When replacing `np.int`, you may wish to use e.g. `np.int64` or `np.int32` to specify the precision. If you wish to review your current use, check the release note link for additional information.\n",
      "Deprecated in NumPy 1.20; for more details and guidance: https://numpy.org/devdocs/release/1.20.0-notes.html#deprecations\n",
      "  dtype=np.int):\n"
     ]
    }
   ],
   "source": [
    "from Bio import SeqIO\n",
    "import keras\n",
    "from sklearn.model_selection import train_test_split\n",
    "from sklearn.feature_extraction.text import CountVectorizer\n"
   ]
  },
  {
   "cell_type": "code",
   "execution_count": 3,
   "id": "794cdacb",
   "metadata": {},
   "outputs": [],
   "source": [
    "seq_obj=SeqIO.parse(filename,'fasta')"
   ]
  },
  {
   "cell_type": "code",
   "execution_count": 4,
   "id": "278b1f15",
   "metadata": {},
   "outputs": [],
   "source": [
    "sequences=[]"
   ]
  },
  {
   "cell_type": "code",
   "execution_count": 5,
   "id": "23deb3ef",
   "metadata": {},
   "outputs": [],
   "source": [
    "for seq in seq_obj:\n",
    "    sequences.append(seq)"
   ]
  },
  {
   "cell_type": "code",
   "execution_count": 6,
   "id": "2041fcff",
   "metadata": {},
   "outputs": [
    {
     "data": {
      "text/plain": [
       "34550"
      ]
     },
     "execution_count": 6,
     "metadata": {},
     "output_type": "execute_result"
    }
   ],
   "source": [
    "len(sequences)"
   ]
  },
  {
   "cell_type": "code",
   "execution_count": 7,
   "id": "077b952b",
   "metadata": {},
   "outputs": [],
   "source": [
    "for record in sequences:\n",
    "    seq_id=record.id\n",
    "    seq_name=record.name\n",
    "    seq_desc=record.description\n",
    "    sequence=record.seq\n",
    "    length=len(sequence)"
   ]
  },
  {
   "cell_type": "code",
   "execution_count": 8,
   "id": "59966735",
   "metadata": {},
   "outputs": [],
   "source": [
    "seq_ids=[]\n",
    "seq_lengths=[]\n",
    "seqs=[]\n",
    "seq_descs=[]\n",
    "label=[]"
   ]
  },
  {
   "cell_type": "code",
   "execution_count": 9,
   "id": "bfcd798c",
   "metadata": {},
   "outputs": [],
   "source": [
    "for record in sequences:\n",
    "    seq_id=record.id\n",
    "    sequence=record.seq[200:1300]\n",
    "    seq_desc=record.description\n",
    "    if('coronavirus' in seq_desc):\n",
    "        label.append('COVID-19')\n",
    "    elif('Dengue' in seq_desc):\n",
    "        label.append('Dengue')\n",
    "    elif('Monkeypox' in seq_desc):\n",
    "        label.append('Monkeypox')\n",
    "    elif('Hepatitis B' in seq_desc):\n",
    "        label.append('Hepatitis B')\n",
    "    elif('Hepatitis C' in seq_desc):\n",
    "        label.append('Hepatitis C')\n",
    "    elif('HIV' in seq_desc):\n",
    "        label.append('HIV')\n",
    "    elif('Human respiratory syncytial' in seq_desc):\n",
    "        label.append('Human orthopneumovirus')\n",
    "    elif('TTV-like' in seq_desc):\n",
    "        label.append('TTV-like')\n",
    "    elif('Influenza A' in seq_desc):\n",
    "        label.append('Influenza A')\n",
    "    else:\n",
    "        label.append(None)\n",
    "    \n",
    "    length=len(sequence)\n",
    "    \n",
    "    seq_ids.append(seq_id)\n",
    "    seq_descs.append(seq_desc)\n",
    "    \n",
    "    seq_lengths.append(length)\n",
    "    seqs.append(sequence)"
   ]
  },
  {
   "cell_type": "code",
   "execution_count": 10,
   "id": "7168672f",
   "metadata": {},
   "outputs": [],
   "source": [
    "\n",
    "import numpy as np\n",
    "import pandas as pd\n",
    "import matplotlib.pyplot as plt"
   ]
  },
  {
   "cell_type": "code",
   "execution_count": 11,
   "id": "3e459c20",
   "metadata": {},
   "outputs": [],
   "source": [
    "dataframe=pd.DataFrame()\n",
    "dataframe['seq_id']=seq_ids\n",
    "dataframe['seq_desc']=seq_descs\n",
    "dataframe['label']=label\n",
    "dataframe['seq_length']=seq_lengths\n",
    "dataframe['Dna Seq']=seqs"
   ]
  },
  {
   "cell_type": "code",
   "execution_count": 12,
   "id": "774d9361",
   "metadata": {},
   "outputs": [],
   "source": [
    "dataframe=dataframe[dataframe['seq_length'].notnull()]\n",
    "dataframe=dataframe[dataframe['label'].notnull()]\n"
   ]
  },
  {
   "cell_type": "code",
   "execution_count": 13,
   "id": "f1ee1d22",
   "metadata": {},
   "outputs": [
    {
     "data": {
      "text/html": [
       "<div>\n",
       "<style scoped>\n",
       "    .dataframe tbody tr th:only-of-type {\n",
       "        vertical-align: middle;\n",
       "    }\n",
       "\n",
       "    .dataframe tbody tr th {\n",
       "        vertical-align: top;\n",
       "    }\n",
       "\n",
       "    .dataframe thead th {\n",
       "        text-align: right;\n",
       "    }\n",
       "</style>\n",
       "<table border=\"1\" class=\"dataframe\">\n",
       "  <thead>\n",
       "    <tr style=\"text-align: right;\">\n",
       "      <th></th>\n",
       "      <th>seq_id</th>\n",
       "      <th>seq_desc</th>\n",
       "      <th>label</th>\n",
       "      <th>seq_length</th>\n",
       "      <th>Dna Seq</th>\n",
       "    </tr>\n",
       "  </thead>\n",
       "  <tbody>\n",
       "    <tr>\n",
       "      <th>10</th>\n",
       "      <td>ON675438.1</td>\n",
       "      <td>ON675438.1 Monkeypox virus isolate MPXV_USA_20...</td>\n",
       "      <td>Monkeypox</td>\n",
       "      <td>1100</td>\n",
       "      <td>(C, G, A, A, G, A, G, A, G, A, A, A, G, A, G, ...</td>\n",
       "    </tr>\n",
       "    <tr>\n",
       "      <th>11</th>\n",
       "      <td>JX878429.1</td>\n",
       "      <td>JX878429.1 Monkeypox virus isolate DRC 07-0662...</td>\n",
       "      <td>Monkeypox</td>\n",
       "      <td>1100</td>\n",
       "      <td>(A, A, A, C, T, T, T, T, T, A, C, G, A, C, T, ...</td>\n",
       "    </tr>\n",
       "    <tr>\n",
       "      <th>12</th>\n",
       "      <td>JX878428.1</td>\n",
       "      <td>JX878428.1 Monkeypox virus isolate DRC 07-0514...</td>\n",
       "      <td>Monkeypox</td>\n",
       "      <td>1100</td>\n",
       "      <td>(A, A, A, C, T, T, T, T, T, A, C, G, A, C, T, ...</td>\n",
       "    </tr>\n",
       "    <tr>\n",
       "      <th>13</th>\n",
       "      <td>JX878427.1</td>\n",
       "      <td>JX878427.1 Monkeypox virus isolate DRC 07-0480...</td>\n",
       "      <td>Monkeypox</td>\n",
       "      <td>1100</td>\n",
       "      <td>(A, A, A, C, T, T, T, T, T, A, C, G, A, C, T, ...</td>\n",
       "    </tr>\n",
       "    <tr>\n",
       "      <th>14</th>\n",
       "      <td>JX878426.1</td>\n",
       "      <td>JX878426.1 Monkeypox virus isolate DRC 07-0450...</td>\n",
       "      <td>Monkeypox</td>\n",
       "      <td>1100</td>\n",
       "      <td>(G, T, T, A, G, T, C, A, A, G, A, T, A, T, T, ...</td>\n",
       "    </tr>\n",
       "    <tr>\n",
       "      <th>15</th>\n",
       "      <td>JX878425.1</td>\n",
       "      <td>JX878425.1 Monkeypox virus isolate DRC 07-0354...</td>\n",
       "      <td>Monkeypox</td>\n",
       "      <td>1100</td>\n",
       "      <td>(A, A, A, C, T, T, T, T, T, A, C, G, A, C, T, ...</td>\n",
       "    </tr>\n",
       "    <tr>\n",
       "      <th>16</th>\n",
       "      <td>JX878424.1</td>\n",
       "      <td>JX878424.1 Monkeypox virus isolate DRC 07-0338...</td>\n",
       "      <td>Monkeypox</td>\n",
       "      <td>1100</td>\n",
       "      <td>(A, A, A, C, T, T, T, T, T, A, C, G, A, C, T, ...</td>\n",
       "    </tr>\n",
       "    <tr>\n",
       "      <th>17</th>\n",
       "      <td>JX878423.1</td>\n",
       "      <td>JX878423.1 Monkeypox virus isolate DRC 07-0337...</td>\n",
       "      <td>Monkeypox</td>\n",
       "      <td>1100</td>\n",
       "      <td>(A, A, A, C, T, T, T, T, T, A, C, G, A, C, T, ...</td>\n",
       "    </tr>\n",
       "    <tr>\n",
       "      <th>18</th>\n",
       "      <td>JX878422.1</td>\n",
       "      <td>JX878422.1 Monkeypox virus isolate DRC 07-0287...</td>\n",
       "      <td>Monkeypox</td>\n",
       "      <td>1100</td>\n",
       "      <td>(A, A, A, C, T, T, T, T, T, A, C, G, A, C, T, ...</td>\n",
       "    </tr>\n",
       "    <tr>\n",
       "      <th>19</th>\n",
       "      <td>JX878421.1</td>\n",
       "      <td>JX878421.1 Monkeypox virus isolate DRC 07-0286...</td>\n",
       "      <td>Monkeypox</td>\n",
       "      <td>1100</td>\n",
       "      <td>(A, A, A, C, T, T, T, T, T, A, C, G, A, C, T, ...</td>\n",
       "    </tr>\n",
       "    <tr>\n",
       "      <th>20</th>\n",
       "      <td>JX878420.1</td>\n",
       "      <td>JX878420.1 Monkeypox virus isolate DRC 07-0283...</td>\n",
       "      <td>Monkeypox</td>\n",
       "      <td>1100</td>\n",
       "      <td>(G, T, T, A, G, T, C, A, A, G, A, T, A, T, T, ...</td>\n",
       "    </tr>\n",
       "    <tr>\n",
       "      <th>21</th>\n",
       "      <td>JX878419.1</td>\n",
       "      <td>JX878419.1 Monkeypox virus isolate DRC 07-0275...</td>\n",
       "      <td>Monkeypox</td>\n",
       "      <td>1100</td>\n",
       "      <td>(G, T, T, A, G, T, C, A, A, G, A, T, A, T, T, ...</td>\n",
       "    </tr>\n",
       "    <tr>\n",
       "      <th>22</th>\n",
       "      <td>JX878418.1</td>\n",
       "      <td>JX878418.1 Monkeypox virus isolate DRC 07-0120...</td>\n",
       "      <td>Monkeypox</td>\n",
       "      <td>1100</td>\n",
       "      <td>(G, T, T, A, G, T, C, A, A, G, A, T, A, T, T, ...</td>\n",
       "    </tr>\n",
       "    <tr>\n",
       "      <th>23</th>\n",
       "      <td>JX878417.1</td>\n",
       "      <td>JX878417.1 Monkeypox virus isolate DRC 07-0104...</td>\n",
       "      <td>Monkeypox</td>\n",
       "      <td>1100</td>\n",
       "      <td>(A, A, A, C, T, T, T, T, T, A, C, G, A, C, T, ...</td>\n",
       "    </tr>\n",
       "    <tr>\n",
       "      <th>24</th>\n",
       "      <td>JX878416.1</td>\n",
       "      <td>JX878416.1 Monkeypox virus isolate DRC 07-0093...</td>\n",
       "      <td>Monkeypox</td>\n",
       "      <td>1100</td>\n",
       "      <td>(A, A, A, C, T, T, T, T, T, A, C, G, A, C, T, ...</td>\n",
       "    </tr>\n",
       "  </tbody>\n",
       "</table>\n",
       "</div>"
      ],
      "text/plain": [
       "        seq_id                                           seq_desc      label  \\\n",
       "10  ON675438.1  ON675438.1 Monkeypox virus isolate MPXV_USA_20...  Monkeypox   \n",
       "11  JX878429.1  JX878429.1 Monkeypox virus isolate DRC 07-0662...  Monkeypox   \n",
       "12  JX878428.1  JX878428.1 Monkeypox virus isolate DRC 07-0514...  Monkeypox   \n",
       "13  JX878427.1  JX878427.1 Monkeypox virus isolate DRC 07-0480...  Monkeypox   \n",
       "14  JX878426.1  JX878426.1 Monkeypox virus isolate DRC 07-0450...  Monkeypox   \n",
       "15  JX878425.1  JX878425.1 Monkeypox virus isolate DRC 07-0354...  Monkeypox   \n",
       "16  JX878424.1  JX878424.1 Monkeypox virus isolate DRC 07-0338...  Monkeypox   \n",
       "17  JX878423.1  JX878423.1 Monkeypox virus isolate DRC 07-0337...  Monkeypox   \n",
       "18  JX878422.1  JX878422.1 Monkeypox virus isolate DRC 07-0287...  Monkeypox   \n",
       "19  JX878421.1  JX878421.1 Monkeypox virus isolate DRC 07-0286...  Monkeypox   \n",
       "20  JX878420.1  JX878420.1 Monkeypox virus isolate DRC 07-0283...  Monkeypox   \n",
       "21  JX878419.1  JX878419.1 Monkeypox virus isolate DRC 07-0275...  Monkeypox   \n",
       "22  JX878418.1  JX878418.1 Monkeypox virus isolate DRC 07-0120...  Monkeypox   \n",
       "23  JX878417.1  JX878417.1 Monkeypox virus isolate DRC 07-0104...  Monkeypox   \n",
       "24  JX878416.1  JX878416.1 Monkeypox virus isolate DRC 07-0093...  Monkeypox   \n",
       "\n",
       "    seq_length                                            Dna Seq  \n",
       "10        1100  (C, G, A, A, G, A, G, A, G, A, A, A, G, A, G, ...  \n",
       "11        1100  (A, A, A, C, T, T, T, T, T, A, C, G, A, C, T, ...  \n",
       "12        1100  (A, A, A, C, T, T, T, T, T, A, C, G, A, C, T, ...  \n",
       "13        1100  (A, A, A, C, T, T, T, T, T, A, C, G, A, C, T, ...  \n",
       "14        1100  (G, T, T, A, G, T, C, A, A, G, A, T, A, T, T, ...  \n",
       "15        1100  (A, A, A, C, T, T, T, T, T, A, C, G, A, C, T, ...  \n",
       "16        1100  (A, A, A, C, T, T, T, T, T, A, C, G, A, C, T, ...  \n",
       "17        1100  (A, A, A, C, T, T, T, T, T, A, C, G, A, C, T, ...  \n",
       "18        1100  (A, A, A, C, T, T, T, T, T, A, C, G, A, C, T, ...  \n",
       "19        1100  (A, A, A, C, T, T, T, T, T, A, C, G, A, C, T, ...  \n",
       "20        1100  (G, T, T, A, G, T, C, A, A, G, A, T, A, T, T, ...  \n",
       "21        1100  (G, T, T, A, G, T, C, A, A, G, A, T, A, T, T, ...  \n",
       "22        1100  (G, T, T, A, G, T, C, A, A, G, A, T, A, T, T, ...  \n",
       "23        1100  (A, A, A, C, T, T, T, T, T, A, C, G, A, C, T, ...  \n",
       "24        1100  (A, A, A, C, T, T, T, T, T, A, C, G, A, C, T, ...  "
      ]
     },
     "execution_count": 13,
     "metadata": {},
     "output_type": "execute_result"
    }
   ],
   "source": [
    "dataframe.head(15)"
   ]
  },
  {
   "cell_type": "code",
   "execution_count": 14,
   "id": "81834c85",
   "metadata": {},
   "outputs": [
    {
     "data": {
      "text/plain": [
       "Hepatitis B               8625\n",
       "HIV                       5106\n",
       "Dengue                    4333\n",
       "TTV-like                  2487\n",
       "Human orthopneumovirus    1724\n",
       "Monkeypox                 1031\n",
       "COVID-19                   875\n",
       "Hepatitis C                811\n",
       "Influenza A                545\n",
       "Name: label, dtype: int64"
      ]
     },
     "execution_count": 14,
     "metadata": {},
     "output_type": "execute_result"
    }
   ],
   "source": [
    "dataframe['label'].value_counts()"
   ]
  },
  {
   "cell_type": "code",
   "execution_count": 15,
   "id": "bb2d2f6b",
   "metadata": {},
   "outputs": [],
   "source": [
    "dataframe=dataframe.drop(['seq_id','seq_length','seq_desc'],axis=1)"
   ]
  },
  {
   "cell_type": "code",
   "execution_count": 16,
   "id": "dbf18e18",
   "metadata": {},
   "outputs": [
    {
     "data": {
      "text/html": [
       "<div>\n",
       "<style scoped>\n",
       "    .dataframe tbody tr th:only-of-type {\n",
       "        vertical-align: middle;\n",
       "    }\n",
       "\n",
       "    .dataframe tbody tr th {\n",
       "        vertical-align: top;\n",
       "    }\n",
       "\n",
       "    .dataframe thead th {\n",
       "        text-align: right;\n",
       "    }\n",
       "</style>\n",
       "<table border=\"1\" class=\"dataframe\">\n",
       "  <thead>\n",
       "    <tr style=\"text-align: right;\">\n",
       "      <th></th>\n",
       "      <th>label</th>\n",
       "      <th>Dna Seq</th>\n",
       "    </tr>\n",
       "  </thead>\n",
       "  <tbody>\n",
       "    <tr>\n",
       "      <th>34434</th>\n",
       "      <td>HIV</td>\n",
       "      <td>(T, C, A, T, C, A, C, A, C, A, G, C, C, C, G, ...</td>\n",
       "    </tr>\n",
       "    <tr>\n",
       "      <th>34435</th>\n",
       "      <td>HIV</td>\n",
       "      <td>(T, C, A, T, C, A, C, G, T, G, G, C, C, C, G, ...</td>\n",
       "    </tr>\n",
       "    <tr>\n",
       "      <th>34436</th>\n",
       "      <td>HIV</td>\n",
       "      <td>(G, A, G, A, A, A, A, T, T, A, G, G, T, T, A, ...</td>\n",
       "    </tr>\n",
       "    <tr>\n",
       "      <th>34437</th>\n",
       "      <td>HIV</td>\n",
       "      <td>(G, A, G, A, A, A, A, T, T, A, G, G, T, T, A, ...</td>\n",
       "    </tr>\n",
       "    <tr>\n",
       "      <th>34438</th>\n",
       "      <td>HIV</td>\n",
       "      <td>(G, A, G, A, G, A, A, T, T, A, A, G, T, T, A, ...</td>\n",
       "    </tr>\n",
       "    <tr>\n",
       "      <th>34439</th>\n",
       "      <td>HIV</td>\n",
       "      <td>(G, A, G, A, A, A, A, T, T, A, G, G, T, T, A, ...</td>\n",
       "    </tr>\n",
       "    <tr>\n",
       "      <th>34440</th>\n",
       "      <td>HIV</td>\n",
       "      <td>(G, A, G, A, A, A, A, T, T, A, G, G, T, T, A, ...</td>\n",
       "    </tr>\n",
       "    <tr>\n",
       "      <th>34441</th>\n",
       "      <td>HIV</td>\n",
       "      <td>(G, A, G, A, A, A, A, T, T, A, G, G, T, T, A, ...</td>\n",
       "    </tr>\n",
       "    <tr>\n",
       "      <th>34442</th>\n",
       "      <td>HIV</td>\n",
       "      <td>(G, A, A, A, A, A, A, T, T, A, G, G, T, T, A, ...</td>\n",
       "    </tr>\n",
       "    <tr>\n",
       "      <th>34443</th>\n",
       "      <td>HIV</td>\n",
       "      <td>(G, A, G, A, A, A, A, T, T, A, G, G, T, T, A, ...</td>\n",
       "    </tr>\n",
       "    <tr>\n",
       "      <th>34444</th>\n",
       "      <td>HIV</td>\n",
       "      <td>(G, A, G, A, A, A, A, T, T, A, G, G, T, T, A, ...</td>\n",
       "    </tr>\n",
       "    <tr>\n",
       "      <th>34445</th>\n",
       "      <td>HIV</td>\n",
       "      <td>(G, A, G, A, A, A, A, T, T, A, G, G, T, T, A, ...</td>\n",
       "    </tr>\n",
       "    <tr>\n",
       "      <th>34446</th>\n",
       "      <td>HIV</td>\n",
       "      <td>(T, A, G, A, A, C, A, G, T, T, A, C, A, G, T, ...</td>\n",
       "    </tr>\n",
       "    <tr>\n",
       "      <th>34447</th>\n",
       "      <td>HIV</td>\n",
       "      <td>(T, C, T, C, A, A, G, A, C, A, G, G, A, T, C, ...</td>\n",
       "    </tr>\n",
       "    <tr>\n",
       "      <th>34475</th>\n",
       "      <td>HIV</td>\n",
       "      <td>(G, G, A, G, G, C, T, A, G, A, A, G, G, A, G, ...</td>\n",
       "    </tr>\n",
       "  </tbody>\n",
       "</table>\n",
       "</div>"
      ],
      "text/plain": [
       "      label                                            Dna Seq\n",
       "34434   HIV  (T, C, A, T, C, A, C, A, C, A, G, C, C, C, G, ...\n",
       "34435   HIV  (T, C, A, T, C, A, C, G, T, G, G, C, C, C, G, ...\n",
       "34436   HIV  (G, A, G, A, A, A, A, T, T, A, G, G, T, T, A, ...\n",
       "34437   HIV  (G, A, G, A, A, A, A, T, T, A, G, G, T, T, A, ...\n",
       "34438   HIV  (G, A, G, A, G, A, A, T, T, A, A, G, T, T, A, ...\n",
       "34439   HIV  (G, A, G, A, A, A, A, T, T, A, G, G, T, T, A, ...\n",
       "34440   HIV  (G, A, G, A, A, A, A, T, T, A, G, G, T, T, A, ...\n",
       "34441   HIV  (G, A, G, A, A, A, A, T, T, A, G, G, T, T, A, ...\n",
       "34442   HIV  (G, A, A, A, A, A, A, T, T, A, G, G, T, T, A, ...\n",
       "34443   HIV  (G, A, G, A, A, A, A, T, T, A, G, G, T, T, A, ...\n",
       "34444   HIV  (G, A, G, A, A, A, A, T, T, A, G, G, T, T, A, ...\n",
       "34445   HIV  (G, A, G, A, A, A, A, T, T, A, G, G, T, T, A, ...\n",
       "34446   HIV  (T, A, G, A, A, C, A, G, T, T, A, C, A, G, T, ...\n",
       "34447   HIV  (T, C, T, C, A, A, G, A, C, A, G, G, A, T, C, ...\n",
       "34475   HIV  (G, G, A, G, G, C, T, A, G, A, A, G, G, A, G, ..."
      ]
     },
     "execution_count": 16,
     "metadata": {},
     "output_type": "execute_result"
    }
   ],
   "source": [
    "dataframe.tail(15)"
   ]
  },
  {
   "cell_type": "code",
   "execution_count": 17,
   "id": "fdd69217",
   "metadata": {},
   "outputs": [],
   "source": [
    "def clean_Labels(x):\n",
    "    \n",
    "    if x=='Monkeypox':\n",
    "        return 0\n",
    "    if x == 'HIV':\n",
    "        return 1\n",
    "    if x=='Dengue':\n",
    "        return 2\n",
    "    if x == 'Human orthopneumovirus':\n",
    "        return 3\n",
    "    if x=='Hepatitis B':\n",
    "        return 4\n",
    "    if x == 'COVID-19':\n",
    "        return 5\n",
    "    if x=='Hepatitis C':\n",
    "        return 6\n",
    "    if x=='TTV-like':\n",
    "        return 7\n",
    "    if x=='Influenza A':\n",
    "        return 8\n",
    "    \n",
    "    \n",
    "    return float(x)"
   ]
  },
  {
   "cell_type": "code",
   "execution_count": 18,
   "id": "af38aaca",
   "metadata": {},
   "outputs": [],
   "source": [
    "dataframe['label']=dataframe['label'].apply(clean_Labels)"
   ]
  },
  {
   "cell_type": "code",
   "execution_count": 19,
   "id": "befb1565",
   "metadata": {},
   "outputs": [
    {
     "data": {
      "text/plain": [
       "array([0, 0, 0, ..., 1, 1, 1], dtype=int64)"
      ]
     },
     "execution_count": 19,
     "metadata": {},
     "output_type": "execute_result"
    }
   ],
   "source": [
    "dataframe['label'].to_numpy()"
   ]
  },
  {
   "cell_type": "code",
   "execution_count": 20,
   "id": "4d0e72d7",
   "metadata": {},
   "outputs": [
    {
     "data": {
      "text/plain": [
       "array([0, 1, 4, 2, 5, 3, 6, 7, 8], dtype=int64)"
      ]
     },
     "execution_count": 20,
     "metadata": {},
     "output_type": "execute_result"
    }
   ],
   "source": [
    "dataframe['label'].unique()"
   ]
  },
  {
   "cell_type": "code",
   "execution_count": 21,
   "id": "22880729",
   "metadata": {},
   "outputs": [
    {
     "data": {
      "text/html": [
       "<div>\n",
       "<style scoped>\n",
       "    .dataframe tbody tr th:only-of-type {\n",
       "        vertical-align: middle;\n",
       "    }\n",
       "\n",
       "    .dataframe tbody tr th {\n",
       "        vertical-align: top;\n",
       "    }\n",
       "\n",
       "    .dataframe thead th {\n",
       "        text-align: right;\n",
       "    }\n",
       "</style>\n",
       "<table border=\"1\" class=\"dataframe\">\n",
       "  <thead>\n",
       "    <tr style=\"text-align: right;\">\n",
       "      <th></th>\n",
       "      <th>label</th>\n",
       "      <th>Dna Seq</th>\n",
       "    </tr>\n",
       "  </thead>\n",
       "  <tbody>\n",
       "    <tr>\n",
       "      <th>10</th>\n",
       "      <td>0</td>\n",
       "      <td>(C, G, A, A, G, A, G, A, G, A, A, A, G, A, G, ...</td>\n",
       "    </tr>\n",
       "    <tr>\n",
       "      <th>11</th>\n",
       "      <td>0</td>\n",
       "      <td>(A, A, A, C, T, T, T, T, T, A, C, G, A, C, T, ...</td>\n",
       "    </tr>\n",
       "    <tr>\n",
       "      <th>12</th>\n",
       "      <td>0</td>\n",
       "      <td>(A, A, A, C, T, T, T, T, T, A, C, G, A, C, T, ...</td>\n",
       "    </tr>\n",
       "    <tr>\n",
       "      <th>13</th>\n",
       "      <td>0</td>\n",
       "      <td>(A, A, A, C, T, T, T, T, T, A, C, G, A, C, T, ...</td>\n",
       "    </tr>\n",
       "    <tr>\n",
       "      <th>14</th>\n",
       "      <td>0</td>\n",
       "      <td>(G, T, T, A, G, T, C, A, A, G, A, T, A, T, T, ...</td>\n",
       "    </tr>\n",
       "  </tbody>\n",
       "</table>\n",
       "</div>"
      ],
      "text/plain": [
       "    label                                            Dna Seq\n",
       "10      0  (C, G, A, A, G, A, G, A, G, A, A, A, G, A, G, ...\n",
       "11      0  (A, A, A, C, T, T, T, T, T, A, C, G, A, C, T, ...\n",
       "12      0  (A, A, A, C, T, T, T, T, T, A, C, G, A, C, T, ...\n",
       "13      0  (A, A, A, C, T, T, T, T, T, A, C, G, A, C, T, ...\n",
       "14      0  (G, T, T, A, G, T, C, A, A, G, A, T, A, T, T, ..."
      ]
     },
     "execution_count": 21,
     "metadata": {},
     "output_type": "execute_result"
    }
   ],
   "source": [
    "dataframe.head()"
   ]
  },
  {
   "cell_type": "code",
   "execution_count": 22,
   "id": "cb28f6d2",
   "metadata": {},
   "outputs": [],
   "source": [
    "dataframe['Dna Seq']=dataframe['Dna Seq'].astype(str)"
   ]
  },
  {
   "cell_type": "code",
   "execution_count": 23,
   "id": "a8816883",
   "metadata": {},
   "outputs": [
    {
     "data": {
      "text/html": [
       "<div>\n",
       "<style scoped>\n",
       "    .dataframe tbody tr th:only-of-type {\n",
       "        vertical-align: middle;\n",
       "    }\n",
       "\n",
       "    .dataframe tbody tr th {\n",
       "        vertical-align: top;\n",
       "    }\n",
       "\n",
       "    .dataframe thead th {\n",
       "        text-align: right;\n",
       "    }\n",
       "</style>\n",
       "<table border=\"1\" class=\"dataframe\">\n",
       "  <thead>\n",
       "    <tr style=\"text-align: right;\">\n",
       "      <th></th>\n",
       "      <th>label</th>\n",
       "      <th>Dna Seq</th>\n",
       "    </tr>\n",
       "  </thead>\n",
       "  <tbody>\n",
       "    <tr>\n",
       "      <th>10</th>\n",
       "      <td>0</td>\n",
       "      <td>CGAAGAGAGAAAGAGATGGTTAGTCAAGATATTTTTCTTAGTACAA...</td>\n",
       "    </tr>\n",
       "    <tr>\n",
       "      <th>11</th>\n",
       "      <td>0</td>\n",
       "      <td>AAACTTTTTACGACTCCATCAGAAAGAGGTTTAATATTTTTGTGAG...</td>\n",
       "    </tr>\n",
       "    <tr>\n",
       "      <th>12</th>\n",
       "      <td>0</td>\n",
       "      <td>AAACTTTTTACGACTCCATCAGAAAGAGGTTTAATATTTTTGTGAG...</td>\n",
       "    </tr>\n",
       "    <tr>\n",
       "      <th>13</th>\n",
       "      <td>0</td>\n",
       "      <td>AAACTTTTTACGACTCCATCAGAAAGAGGTTTAATATTTTTGTGAG...</td>\n",
       "    </tr>\n",
       "    <tr>\n",
       "      <th>14</th>\n",
       "      <td>0</td>\n",
       "      <td>GTTAGTCAAGATATTTTTCTTAGTACAAAAGTCAATGTTTTAAAAT...</td>\n",
       "    </tr>\n",
       "  </tbody>\n",
       "</table>\n",
       "</div>"
      ],
      "text/plain": [
       "    label                                            Dna Seq\n",
       "10      0  CGAAGAGAGAAAGAGATGGTTAGTCAAGATATTTTTCTTAGTACAA...\n",
       "11      0  AAACTTTTTACGACTCCATCAGAAAGAGGTTTAATATTTTTGTGAG...\n",
       "12      0  AAACTTTTTACGACTCCATCAGAAAGAGGTTTAATATTTTTGTGAG...\n",
       "13      0  AAACTTTTTACGACTCCATCAGAAAGAGGTTTAATATTTTTGTGAG...\n",
       "14      0  GTTAGTCAAGATATTTTTCTTAGTACAAAAGTCAATGTTTTAAAAT..."
      ]
     },
     "execution_count": 23,
     "metadata": {},
     "output_type": "execute_result"
    }
   ],
   "source": [
    "dataframe.head()"
   ]
  },
  {
   "cell_type": "code",
   "execution_count": 24,
   "id": "21ae3d3f",
   "metadata": {},
   "outputs": [],
   "source": [
    "def Kmers_funct(seq, size=4):\n",
    "    return [seq[x:x+size].lower() for x in range(len(seq) - size + 1)]"
   ]
  },
  {
   "cell_type": "code",
   "execution_count": 25,
   "id": "155028bf",
   "metadata": {},
   "outputs": [],
   "source": [
    "dataframe['words'] = dataframe.apply(lambda x: Kmers_funct(x['Dna Seq']), axis=1)\n",
    "dataframe = dataframe.drop('Dna Seq', axis=1)"
   ]
  },
  {
   "cell_type": "code",
   "execution_count": 26,
   "id": "340b6f1e",
   "metadata": {},
   "outputs": [
    {
     "data": {
      "text/html": [
       "<div>\n",
       "<style scoped>\n",
       "    .dataframe tbody tr th:only-of-type {\n",
       "        vertical-align: middle;\n",
       "    }\n",
       "\n",
       "    .dataframe tbody tr th {\n",
       "        vertical-align: top;\n",
       "    }\n",
       "\n",
       "    .dataframe thead th {\n",
       "        text-align: right;\n",
       "    }\n",
       "</style>\n",
       "<table border=\"1\" class=\"dataframe\">\n",
       "  <thead>\n",
       "    <tr style=\"text-align: right;\">\n",
       "      <th></th>\n",
       "      <th>label</th>\n",
       "      <th>words</th>\n",
       "    </tr>\n",
       "  </thead>\n",
       "  <tbody>\n",
       "    <tr>\n",
       "      <th>10</th>\n",
       "      <td>0</td>\n",
       "      <td>[cgaa, gaag, aaga, agag, gaga, agag, gaga, aga...</td>\n",
       "    </tr>\n",
       "    <tr>\n",
       "      <th>11</th>\n",
       "      <td>0</td>\n",
       "      <td>[aaac, aact, actt, cttt, tttt, tttt, ttta, tta...</td>\n",
       "    </tr>\n",
       "    <tr>\n",
       "      <th>12</th>\n",
       "      <td>0</td>\n",
       "      <td>[aaac, aact, actt, cttt, tttt, tttt, ttta, tta...</td>\n",
       "    </tr>\n",
       "    <tr>\n",
       "      <th>13</th>\n",
       "      <td>0</td>\n",
       "      <td>[aaac, aact, actt, cttt, tttt, tttt, ttta, tta...</td>\n",
       "    </tr>\n",
       "    <tr>\n",
       "      <th>14</th>\n",
       "      <td>0</td>\n",
       "      <td>[gtta, ttag, tagt, agtc, gtca, tcaa, caag, aag...</td>\n",
       "    </tr>\n",
       "  </tbody>\n",
       "</table>\n",
       "</div>"
      ],
      "text/plain": [
       "    label                                              words\n",
       "10      0  [cgaa, gaag, aaga, agag, gaga, agag, gaga, aga...\n",
       "11      0  [aaac, aact, actt, cttt, tttt, tttt, ttta, tta...\n",
       "12      0  [aaac, aact, actt, cttt, tttt, tttt, ttta, tta...\n",
       "13      0  [aaac, aact, actt, cttt, tttt, tttt, ttta, tta...\n",
       "14      0  [gtta, ttag, tagt, agtc, gtca, tcaa, caag, aag..."
      ]
     },
     "execution_count": 26,
     "metadata": {},
     "output_type": "execute_result"
    }
   ],
   "source": [
    "dataframe.head()"
   ]
  },
  {
   "cell_type": "code",
   "execution_count": 27,
   "id": "08fff420",
   "metadata": {},
   "outputs": [],
   "source": [
    "dna_texts = list(dataframe['words'])\n",
    "for item in range(len(dna_texts)):\n",
    "    dna_texts[item] =' '.join(dna_texts[item])"
   ]
  },
  {
   "cell_type": "code",
   "execution_count": 28,
   "id": "9224883d",
   "metadata": {},
   "outputs": [],
   "source": [
    "y_data = dataframe.iloc[:, 0].values"
   ]
  },
  {
   "cell_type": "code",
   "execution_count": 29,
   "id": "6bcb451f",
   "metadata": {},
   "outputs": [
    {
     "data": {
      "text/plain": [
       "array([0, 0, 0, ..., 1, 1, 1], dtype=int64)"
      ]
     },
     "execution_count": 29,
     "metadata": {},
     "output_type": "execute_result"
    }
   ],
   "source": [
    "y_data"
   ]
  },
  {
   "cell_type": "code",
   "execution_count": 30,
   "id": "1d17c31e",
   "metadata": {},
   "outputs": [],
   "source": [
    "# Pre-processing of DNA sequences using CountVectorizer\n",
    "vectorizer = CountVectorizer(analyzer='char', ngram_range=(4,4))\n",
    "X = vectorizer.fit_transform(dna_texts)"
   ]
  },
  {
   "cell_type": "code",
   "execution_count": 31,
   "id": "4313d0a4",
   "metadata": {},
   "outputs": [
    {
     "data": {
      "text/plain": [
       "(25537, 6627)"
      ]
     },
     "execution_count": 31,
     "metadata": {},
     "output_type": "execute_result"
    }
   ],
   "source": [
    "X.shape"
   ]
  },
  {
   "cell_type": "code",
   "execution_count": 32,
   "id": "f862b238",
   "metadata": {},
   "outputs": [
    {
     "data": {
      "text/plain": [
       "(25537,)"
      ]
     },
     "execution_count": 32,
     "metadata": {},
     "output_type": "execute_result"
    }
   ],
   "source": [
    "y_data.shape"
   ]
  },
  {
   "cell_type": "code",
   "execution_count": 33,
   "id": "327a20f6",
   "metadata": {},
   "outputs": [],
   "source": [
    "y = keras.utils.to_categorical(y_data, num_classes=9)"
   ]
  },
  {
   "cell_type": "code",
   "execution_count": 34,
   "id": "4e40d061",
   "metadata": {},
   "outputs": [
    {
     "data": {
      "text/plain": [
       "(25537, 9)"
      ]
     },
     "execution_count": 34,
     "metadata": {},
     "output_type": "execute_result"
    }
   ],
   "source": [
    "y.shape"
   ]
  },
  {
   "cell_type": "code",
   "execution_count": 35,
   "id": "193ec4e1",
   "metadata": {},
   "outputs": [],
   "source": [
    "def create_model(input_shape, num_classes, type='CNN'):\n",
    "    model = keras.Sequential()\n",
    "    model.add(keras.layers.Reshape((input_shape[0], 1), input_shape=input_shape))\n",
    "    model.add(keras.layers.Conv1D(filters=32, kernel_size=3, activation='relu'))\n",
    "    model.add(keras.layers.MaxPooling1D(pool_size=2))\n",
    "    model.add(keras.layers.Flatten())\n",
    "    model.add(keras.layers.Dense(32, activation='relu'))\n",
    "    model.add(keras.layers.Dense(num_classes, activation='softmax'))\n",
    "    model.compile(optimizer='adam', loss='categorical_crossentropy', metrics=['accuracy'])\n",
    "    return model"
   ]
  },
  {
   "cell_type": "code",
   "execution_count": 36,
   "id": "60276a2e",
   "metadata": {},
   "outputs": [],
   "source": [
    "# Split the data into train and test sets\n",
    "X_train, X_test, y_train, y_test = train_test_split(X, y, test_size=0.2, random_state=42)\n"
   ]
  },
  {
   "cell_type": "code",
   "execution_count": 37,
   "id": "317fb20d",
   "metadata": {},
   "outputs": [],
   "source": [
    "# Convert sparse matrix to dense matrix\n",
    "X_train = X_train.toarray()\n",
    "X_test = X_test.toarray()\n",
    "\n",
    "# Reshape the input to add the sequence length dimension\n",
    "X_train = np.reshape(X_train, (X_train.shape[0], X_train.shape[1], 1))\n",
    "X_test = np.reshape(X_test, (X_test.shape[0], X_test.shape[1], 1))"
   ]
  },
  {
   "cell_type": "code",
   "execution_count": 39,
   "id": "671550c0",
   "metadata": {},
   "outputs": [],
   "source": [
    "model = create_model(X_train.shape[1:], 9)"
   ]
  },
  {
   "cell_type": "code",
   "execution_count": 40,
   "id": "1f141da3",
   "metadata": {},
   "outputs": [
    {
     "name": "stdout",
     "output_type": "stream",
     "text": [
      "Epoch 1/10\n",
      "639/639 [==============================] - 50s 77ms/step - loss: 0.1845 - accuracy: 0.9771 - val_loss: 0.0522 - val_accuracy: 0.9994\n",
      "Epoch 2/10\n",
      "639/639 [==============================] - 49s 77ms/step - loss: 0.0175 - accuracy: 0.9984 - val_loss: 0.0162 - val_accuracy: 0.9988\n",
      "Epoch 3/10\n",
      "639/639 [==============================] - 50s 77ms/step - loss: 0.0067 - accuracy: 0.9993 - val_loss: 0.0047 - val_accuracy: 0.9994\n",
      "Epoch 4/10\n",
      "639/639 [==============================] - 51s 79ms/step - loss: 5.0067e-04 - accuracy: 0.9998 - val_loss: 0.0104 - val_accuracy: 0.9994\n",
      "Epoch 5/10\n",
      "639/639 [==============================] - 50s 79ms/step - loss: 0.0019 - accuracy: 0.9997 - val_loss: 0.0097 - val_accuracy: 0.9992\n",
      "Epoch 6/10\n",
      "639/639 [==============================] - 50s 78ms/step - loss: 0.0135 - accuracy: 0.9973 - val_loss: 0.0015 - val_accuracy: 0.9996\n",
      "Epoch 7/10\n",
      "639/639 [==============================] - 49s 77ms/step - loss: 0.0069 - accuracy: 0.9988 - val_loss: 0.0091 - val_accuracy: 0.9996\n",
      "Epoch 8/10\n",
      "639/639 [==============================] - 49s 77ms/step - loss: 5.8931e-04 - accuracy: 0.9999 - val_loss: 0.0146 - val_accuracy: 0.9992\n",
      "Epoch 9/10\n",
      "639/639 [==============================] - 49s 77ms/step - loss: 3.9403e-04 - accuracy: 0.9999 - val_loss: 0.0012 - val_accuracy: 0.9996\n",
      "Epoch 10/10\n",
      "639/639 [==============================] - 50s 78ms/step - loss: 2.4910e-05 - accuracy: 1.0000 - val_loss: 0.0023 - val_accuracy: 0.9996\n"
     ]
    },
    {
     "data": {
      "text/plain": [
       "<keras.callbacks.History at 0x2886ae9d860>"
      ]
     },
     "execution_count": 40,
     "metadata": {},
     "output_type": "execute_result"
    }
   ],
   "source": [
    "model.fit(X_train, y_train, epochs=10, batch_size=32, validation_data=(X_test, y_test))"
   ]
  },
  {
   "cell_type": "code",
   "execution_count": 41,
   "id": "bd8830ca",
   "metadata": {},
   "outputs": [
    {
     "name": "stdout",
     "output_type": "stream",
     "text": [
      "160/160 [==============================] - 3s 19ms/step - loss: 0.0023 - accuracy: 0.9996\n",
      "Test Loss: 0.0022881932090967894\n",
      "Test Accuracy: 0.9996084570884705\n"
     ]
    }
   ],
   "source": [
    "# Evaluate the model on test data\n",
    "test_loss, test_acc = model.evaluate(X_test, y_test)\n",
    "print(\"Test Loss:\", test_loss)\n",
    "print(\"Test Accuracy:\", test_acc)"
   ]
  },
  {
   "cell_type": "code",
   "execution_count": 42,
   "id": "7e0f8f7a",
   "metadata": {},
   "outputs": [],
   "source": [
    "# Save the model\n",
    "keras.models.save_model(model, 'model.h5')"
   ]
  },
  {
   "cell_type": "code",
   "execution_count": null,
   "id": "682fa401",
   "metadata": {},
   "outputs": [],
   "source": []
  }
 ],
 "metadata": {
  "kernelspec": {
   "display_name": "Python 3 (ipykernel)",
   "language": "python",
   "name": "python3"
  },
  "language_info": {
   "codemirror_mode": {
    "name": "ipython",
    "version": 3
   },
   "file_extension": ".py",
   "mimetype": "text/x-python",
   "name": "python",
   "nbconvert_exporter": "python",
   "pygments_lexer": "ipython3",
   "version": "3.7.3"
  }
 },
 "nbformat": 4,
 "nbformat_minor": 5
}
