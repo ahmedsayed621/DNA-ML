{
 "cells": [
  {
   "cell_type": "code",
   "execution_count": 74,
   "id": "c8a62cd3",
   "metadata": {},
   "outputs": [
    {
     "name": "stdout",
     "output_type": "stream",
     "text": [
      "1.16.5\n"
     ]
    }
   ],
   "source": [
    "import numpy as np\n",
    "print(np.__version__)"
   ]
  },
  {
   "cell_type": "code",
   "execution_count": 2,
   "id": "b0a54135",
   "metadata": {},
   "outputs": [
    {
     "name": "stdout",
     "output_type": "stream",
     "text": [
      "Requirement already satisfied: numpy==1.16.5 in c:\\users\\administrator\\anaconda3\\envs\\pytorchenv\\lib\\site-packages (1.16.5)\n",
      "Requirement already satisfied: pandas==0.24.2 in c:\\users\\administrator\\anaconda3\\envs\\pytorchenv\\lib\\site-packages (0.24.2)\n",
      "Requirement already satisfied: numpy>=1.12.0 in c:\\users\\administrator\\anaconda3\\envs\\pytorchenv\\lib\\site-packages (from pandas==0.24.2) (1.16.5)\n",
      "Requirement already satisfied: python-dateutil>=2.5.0 in c:\\users\\administrator\\anaconda3\\envs\\pytorchenv\\lib\\site-packages (from pandas==0.24.2) (2.8.2)\n",
      "Requirement already satisfied: pytz>=2011k in c:\\users\\administrator\\anaconda3\\envs\\pytorchenv\\lib\\site-packages (from pandas==0.24.2) (2022.1)\n",
      "Requirement already satisfied: six>=1.5 in c:\\users\\administrator\\anaconda3\\envs\\pytorchenv\\lib\\site-packages (from python-dateutil>=2.5.0->pandas==0.24.2) (1.16.0)\n"
     ]
    }
   ],
   "source": [
    "!pip install numpy==1.16.5\n",
    "!pip install pandas==0.24.2"
   ]
  },
  {
   "cell_type": "markdown",
   "id": "0f086cbe",
   "metadata": {},
   "source": [
    "# Gathering Data"
   ]
  },
  {
   "cell_type": "markdown",
   "id": "e0e1869a",
   "metadata": {},
   "source": [
    "# DNA data handling using Biopython"
   ]
  },
  {
   "cell_type": "markdown",
   "id": "2517d4ce",
   "metadata": {},
   "source": [
    "Here is a brief example of how to work with a DNA sequence in fasta format using Biopython. The sequence object will contain attributes such as id and sequence and the length of the sequence that you can work with directly.\n",
    "\n",
    "We will use Bio.SeqIO from Biopython for parsing DNA sequence data(fasta). It provides a simple uniform interface to input and output assorted sequence file formats."
   ]
  },
  {
   "cell_type": "code",
   "execution_count": 1,
   "id": "6c59da2d",
   "metadata": {},
   "outputs": [],
   "source": [
    "filename='virus dataset.fasta'"
   ]
  },
  {
   "cell_type": "code",
   "execution_count": 2,
   "id": "d75984b4",
   "metadata": {},
   "outputs": [],
   "source": [
    "from Bio import SeqIO"
   ]
  },
  {
   "cell_type": "code",
   "execution_count": 3,
   "id": "c3362658",
   "metadata": {},
   "outputs": [],
   "source": [
    "seq_obj=SeqIO.parse(filename,'fasta')"
   ]
  },
  {
   "cell_type": "code",
   "execution_count": 4,
   "id": "31b0edd8",
   "metadata": {},
   "outputs": [],
   "source": [
    "sequences=[]"
   ]
  },
  {
   "cell_type": "code",
   "execution_count": 5,
   "id": "081572ba",
   "metadata": {},
   "outputs": [],
   "source": [
    "for seq in seq_obj:\n",
    "    sequences.append(seq)"
   ]
  },
  {
   "cell_type": "code",
   "execution_count": 6,
   "id": "8e06fa8c",
   "metadata": {},
   "outputs": [
    {
     "data": {
      "text/plain": [
       "34550"
      ]
     },
     "execution_count": 6,
     "metadata": {},
     "output_type": "execute_result"
    }
   ],
   "source": [
    "len(sequences)"
   ]
  },
  {
   "cell_type": "code",
   "execution_count": 7,
   "id": "cb25be36",
   "metadata": {},
   "outputs": [
    {
     "name": "stdout",
     "output_type": "stream",
     "text": [
      "JX878410.1\n",
      "JX878410.1 Monkeypox virus isolate DRC 06-1070, complete genome\n",
      "198886\n"
     ]
    }
   ],
   "source": [
    "f_rec=sequences[30]\n",
    "print(f_rec.id)\n",
    "print(f_rec.description)\n",
    "print(len(f_rec.seq))"
   ]
  },
  {
   "cell_type": "code",
   "execution_count": 8,
   "id": "e2c4387d",
   "metadata": {},
   "outputs": [],
   "source": [
    "for record in sequences:\n",
    "    seq_id=record.id\n",
    "    seq_name=record.name\n",
    "    seq_desc=record.description\n",
    "    sequence=record.seq\n",
    "    length=len(sequence)"
   ]
  },
  {
   "cell_type": "code",
   "execution_count": 9,
   "id": "09a94713",
   "metadata": {},
   "outputs": [],
   "source": [
    "seq_ids=[]\n",
    "seq_lengths=[]\n",
    "seqs=[]\n",
    "seq_descs=[]\n",
    "label=[]"
   ]
  },
  {
   "cell_type": "code",
   "execution_count": 10,
   "id": "e77d4981",
   "metadata": {},
   "outputs": [],
   "source": [
    "for record in sequences:\n",
    "    seq_id=record.id\n",
    "    sequence=record.seq[200:1500]\n",
    "    seq_desc=record.description\n",
    "    if('coronavirus' in seq_desc):\n",
    "        label.append('COVID-19')\n",
    "    elif('Dengue' in seq_desc):\n",
    "        label.append('Dengue')\n",
    "    elif('Monkeypox' in seq_desc):\n",
    "        label.append('Monkeypox')\n",
    "    elif('Hepatitis B' in seq_desc):\n",
    "        label.append('Hepatitis B')\n",
    "    elif('Hepatitis C' in seq_desc):\n",
    "        label.append('Hepatitis C')\n",
    "    elif('HIV' in seq_desc):\n",
    "        label.append('HIV')\n",
    "    elif('Human respiratory syncytial' in seq_desc):\n",
    "        label.append('Human orthopneumovirus')\n",
    "    elif('TTV-like' in seq_desc):\n",
    "        label.append('TTV-like')\n",
    "    elif('Influenza A' in seq_desc):\n",
    "        label.append('Influenza A')\n",
    "    else:\n",
    "        label.append(None)\n",
    "    \n",
    "    length=len(sequence)\n",
    "    \n",
    "    seq_ids.append(seq_id)\n",
    "    seq_descs.append(seq_desc)\n",
    "    \n",
    "    seq_lengths.append(length)\n",
    "    seqs.append(sequence)"
   ]
  },
  {
   "cell_type": "markdown",
   "id": "61688e80",
   "metadata": {},
   "source": [
    "# Data preparation\n"
   ]
  },
  {
   "cell_type": "code",
   "execution_count": 11,
   "id": "506e6b69",
   "metadata": {},
   "outputs": [],
   "source": [
    "import pandas as pd\n",
    "import matplotlib.pyplot as plt"
   ]
  },
  {
   "cell_type": "code",
   "execution_count": 12,
   "id": "7833ae6b",
   "metadata": {},
   "outputs": [],
   "source": [
    "dataframe=pd.DataFrame()\n",
    "dataframe['seq_id']=seq_ids\n",
    "dataframe['seq_desc']=seq_descs\n",
    "dataframe['label']=label\n",
    "dataframe['seq_length']=seq_lengths\n",
    "dataframe['Dna Seq']=seqs"
   ]
  },
  {
   "cell_type": "code",
   "execution_count": 13,
   "id": "bf533f5a",
   "metadata": {},
   "outputs": [
    {
     "name": "stdout",
     "output_type": "stream",
     "text": [
      "<class 'pandas.core.frame.DataFrame'>\n",
      "Int64Index: 25537 entries, 10 to 34475\n",
      "Data columns (total 5 columns):\n",
      "seq_id        25537 non-null object\n",
      "seq_desc      25537 non-null object\n",
      "label         25537 non-null object\n",
      "seq_length    25537 non-null int64\n",
      "Dna Seq       25537 non-null object\n",
      "dtypes: int64(1), object(4)\n",
      "memory usage: 1.2+ MB\n"
     ]
    }
   ],
   "source": [
    "dataframe=dataframe[dataframe['seq_length'].notnull()]\n",
    "dataframe=dataframe[dataframe['label'].notnull()]\n",
    "dataframe.info()"
   ]
  },
  {
   "cell_type": "code",
   "execution_count": 14,
   "id": "d57b7742",
   "metadata": {},
   "outputs": [
    {
     "data": {
      "text/html": [
       "<div>\n",
       "<style scoped>\n",
       "    .dataframe tbody tr th:only-of-type {\n",
       "        vertical-align: middle;\n",
       "    }\n",
       "\n",
       "    .dataframe tbody tr th {\n",
       "        vertical-align: top;\n",
       "    }\n",
       "\n",
       "    .dataframe thead th {\n",
       "        text-align: right;\n",
       "    }\n",
       "</style>\n",
       "<table border=\"1\" class=\"dataframe\">\n",
       "  <thead>\n",
       "    <tr style=\"text-align: right;\">\n",
       "      <th></th>\n",
       "      <th>seq_id</th>\n",
       "      <th>seq_desc</th>\n",
       "      <th>label</th>\n",
       "      <th>seq_length</th>\n",
       "      <th>Dna Seq</th>\n",
       "    </tr>\n",
       "  </thead>\n",
       "  <tbody>\n",
       "    <tr>\n",
       "      <th>10</th>\n",
       "      <td>ON675438.1</td>\n",
       "      <td>ON675438.1 Monkeypox virus isolate MPXV_USA_20...</td>\n",
       "      <td>Monkeypox</td>\n",
       "      <td>1300</td>\n",
       "      <td>(C, G, A, A, G, A, G, A, G, A, A, A, G, A, G, ...</td>\n",
       "    </tr>\n",
       "    <tr>\n",
       "      <th>11</th>\n",
       "      <td>JX878429.1</td>\n",
       "      <td>JX878429.1 Monkeypox virus isolate DRC 07-0662...</td>\n",
       "      <td>Monkeypox</td>\n",
       "      <td>1300</td>\n",
       "      <td>(A, A, A, C, T, T, T, T, T, A, C, G, A, C, T, ...</td>\n",
       "    </tr>\n",
       "    <tr>\n",
       "      <th>12</th>\n",
       "      <td>JX878428.1</td>\n",
       "      <td>JX878428.1 Monkeypox virus isolate DRC 07-0514...</td>\n",
       "      <td>Monkeypox</td>\n",
       "      <td>1300</td>\n",
       "      <td>(A, A, A, C, T, T, T, T, T, A, C, G, A, C, T, ...</td>\n",
       "    </tr>\n",
       "    <tr>\n",
       "      <th>13</th>\n",
       "      <td>JX878427.1</td>\n",
       "      <td>JX878427.1 Monkeypox virus isolate DRC 07-0480...</td>\n",
       "      <td>Monkeypox</td>\n",
       "      <td>1300</td>\n",
       "      <td>(A, A, A, C, T, T, T, T, T, A, C, G, A, C, T, ...</td>\n",
       "    </tr>\n",
       "    <tr>\n",
       "      <th>14</th>\n",
       "      <td>JX878426.1</td>\n",
       "      <td>JX878426.1 Monkeypox virus isolate DRC 07-0450...</td>\n",
       "      <td>Monkeypox</td>\n",
       "      <td>1300</td>\n",
       "      <td>(G, T, T, A, G, T, C, A, A, G, A, T, A, T, T, ...</td>\n",
       "    </tr>\n",
       "    <tr>\n",
       "      <th>15</th>\n",
       "      <td>JX878425.1</td>\n",
       "      <td>JX878425.1 Monkeypox virus isolate DRC 07-0354...</td>\n",
       "      <td>Monkeypox</td>\n",
       "      <td>1300</td>\n",
       "      <td>(A, A, A, C, T, T, T, T, T, A, C, G, A, C, T, ...</td>\n",
       "    </tr>\n",
       "    <tr>\n",
       "      <th>16</th>\n",
       "      <td>JX878424.1</td>\n",
       "      <td>JX878424.1 Monkeypox virus isolate DRC 07-0338...</td>\n",
       "      <td>Monkeypox</td>\n",
       "      <td>1300</td>\n",
       "      <td>(A, A, A, C, T, T, T, T, T, A, C, G, A, C, T, ...</td>\n",
       "    </tr>\n",
       "    <tr>\n",
       "      <th>17</th>\n",
       "      <td>JX878423.1</td>\n",
       "      <td>JX878423.1 Monkeypox virus isolate DRC 07-0337...</td>\n",
       "      <td>Monkeypox</td>\n",
       "      <td>1300</td>\n",
       "      <td>(A, A, A, C, T, T, T, T, T, A, C, G, A, C, T, ...</td>\n",
       "    </tr>\n",
       "    <tr>\n",
       "      <th>18</th>\n",
       "      <td>JX878422.1</td>\n",
       "      <td>JX878422.1 Monkeypox virus isolate DRC 07-0287...</td>\n",
       "      <td>Monkeypox</td>\n",
       "      <td>1300</td>\n",
       "      <td>(A, A, A, C, T, T, T, T, T, A, C, G, A, C, T, ...</td>\n",
       "    </tr>\n",
       "    <tr>\n",
       "      <th>19</th>\n",
       "      <td>JX878421.1</td>\n",
       "      <td>JX878421.1 Monkeypox virus isolate DRC 07-0286...</td>\n",
       "      <td>Monkeypox</td>\n",
       "      <td>1300</td>\n",
       "      <td>(A, A, A, C, T, T, T, T, T, A, C, G, A, C, T, ...</td>\n",
       "    </tr>\n",
       "    <tr>\n",
       "      <th>20</th>\n",
       "      <td>JX878420.1</td>\n",
       "      <td>JX878420.1 Monkeypox virus isolate DRC 07-0283...</td>\n",
       "      <td>Monkeypox</td>\n",
       "      <td>1300</td>\n",
       "      <td>(G, T, T, A, G, T, C, A, A, G, A, T, A, T, T, ...</td>\n",
       "    </tr>\n",
       "    <tr>\n",
       "      <th>21</th>\n",
       "      <td>JX878419.1</td>\n",
       "      <td>JX878419.1 Monkeypox virus isolate DRC 07-0275...</td>\n",
       "      <td>Monkeypox</td>\n",
       "      <td>1300</td>\n",
       "      <td>(G, T, T, A, G, T, C, A, A, G, A, T, A, T, T, ...</td>\n",
       "    </tr>\n",
       "    <tr>\n",
       "      <th>22</th>\n",
       "      <td>JX878418.1</td>\n",
       "      <td>JX878418.1 Monkeypox virus isolate DRC 07-0120...</td>\n",
       "      <td>Monkeypox</td>\n",
       "      <td>1300</td>\n",
       "      <td>(G, T, T, A, G, T, C, A, A, G, A, T, A, T, T, ...</td>\n",
       "    </tr>\n",
       "    <tr>\n",
       "      <th>23</th>\n",
       "      <td>JX878417.1</td>\n",
       "      <td>JX878417.1 Monkeypox virus isolate DRC 07-0104...</td>\n",
       "      <td>Monkeypox</td>\n",
       "      <td>1300</td>\n",
       "      <td>(A, A, A, C, T, T, T, T, T, A, C, G, A, C, T, ...</td>\n",
       "    </tr>\n",
       "    <tr>\n",
       "      <th>24</th>\n",
       "      <td>JX878416.1</td>\n",
       "      <td>JX878416.1 Monkeypox virus isolate DRC 07-0093...</td>\n",
       "      <td>Monkeypox</td>\n",
       "      <td>1300</td>\n",
       "      <td>(A, A, A, C, T, T, T, T, T, A, C, G, A, C, T, ...</td>\n",
       "    </tr>\n",
       "  </tbody>\n",
       "</table>\n",
       "</div>"
      ],
      "text/plain": [
       "        seq_id                                           seq_desc      label  \\\n",
       "10  ON675438.1  ON675438.1 Monkeypox virus isolate MPXV_USA_20...  Monkeypox   \n",
       "11  JX878429.1  JX878429.1 Monkeypox virus isolate DRC 07-0662...  Monkeypox   \n",
       "12  JX878428.1  JX878428.1 Monkeypox virus isolate DRC 07-0514...  Monkeypox   \n",
       "13  JX878427.1  JX878427.1 Monkeypox virus isolate DRC 07-0480...  Monkeypox   \n",
       "14  JX878426.1  JX878426.1 Monkeypox virus isolate DRC 07-0450...  Monkeypox   \n",
       "15  JX878425.1  JX878425.1 Monkeypox virus isolate DRC 07-0354...  Monkeypox   \n",
       "16  JX878424.1  JX878424.1 Monkeypox virus isolate DRC 07-0338...  Monkeypox   \n",
       "17  JX878423.1  JX878423.1 Monkeypox virus isolate DRC 07-0337...  Monkeypox   \n",
       "18  JX878422.1  JX878422.1 Monkeypox virus isolate DRC 07-0287...  Monkeypox   \n",
       "19  JX878421.1  JX878421.1 Monkeypox virus isolate DRC 07-0286...  Monkeypox   \n",
       "20  JX878420.1  JX878420.1 Monkeypox virus isolate DRC 07-0283...  Monkeypox   \n",
       "21  JX878419.1  JX878419.1 Monkeypox virus isolate DRC 07-0275...  Monkeypox   \n",
       "22  JX878418.1  JX878418.1 Monkeypox virus isolate DRC 07-0120...  Monkeypox   \n",
       "23  JX878417.1  JX878417.1 Monkeypox virus isolate DRC 07-0104...  Monkeypox   \n",
       "24  JX878416.1  JX878416.1 Monkeypox virus isolate DRC 07-0093...  Monkeypox   \n",
       "\n",
       "    seq_length                                            Dna Seq  \n",
       "10        1300  (C, G, A, A, G, A, G, A, G, A, A, A, G, A, G, ...  \n",
       "11        1300  (A, A, A, C, T, T, T, T, T, A, C, G, A, C, T, ...  \n",
       "12        1300  (A, A, A, C, T, T, T, T, T, A, C, G, A, C, T, ...  \n",
       "13        1300  (A, A, A, C, T, T, T, T, T, A, C, G, A, C, T, ...  \n",
       "14        1300  (G, T, T, A, G, T, C, A, A, G, A, T, A, T, T, ...  \n",
       "15        1300  (A, A, A, C, T, T, T, T, T, A, C, G, A, C, T, ...  \n",
       "16        1300  (A, A, A, C, T, T, T, T, T, A, C, G, A, C, T, ...  \n",
       "17        1300  (A, A, A, C, T, T, T, T, T, A, C, G, A, C, T, ...  \n",
       "18        1300  (A, A, A, C, T, T, T, T, T, A, C, G, A, C, T, ...  \n",
       "19        1300  (A, A, A, C, T, T, T, T, T, A, C, G, A, C, T, ...  \n",
       "20        1300  (G, T, T, A, G, T, C, A, A, G, A, T, A, T, T, ...  \n",
       "21        1300  (G, T, T, A, G, T, C, A, A, G, A, T, A, T, T, ...  \n",
       "22        1300  (G, T, T, A, G, T, C, A, A, G, A, T, A, T, T, ...  \n",
       "23        1300  (A, A, A, C, T, T, T, T, T, A, C, G, A, C, T, ...  \n",
       "24        1300  (A, A, A, C, T, T, T, T, T, A, C, G, A, C, T, ...  "
      ]
     },
     "execution_count": 14,
     "metadata": {},
     "output_type": "execute_result"
    }
   ],
   "source": [
    "dataframe.head(15)"
   ]
  },
  {
   "cell_type": "code",
   "execution_count": null,
   "id": "65749995",
   "metadata": {},
   "outputs": [],
   "source": []
  },
  {
   "cell_type": "code",
   "execution_count": 15,
   "id": "06b9de4a",
   "metadata": {},
   "outputs": [],
   "source": [
    "dataframe['Dna Seq']=dataframe['Dna Seq'].astype(str)"
   ]
  },
  {
   "cell_type": "code",
   "execution_count": 16,
   "id": "5405e4b4",
   "metadata": {},
   "outputs": [],
   "source": [
    "dataframe['Dna Seq']=dataframe['Dna Seq'].apply(lambda x:x.replace('(','').replace(',','').replace(')',''))"
   ]
  },
  {
   "cell_type": "code",
   "execution_count": 17,
   "id": "a9104250",
   "metadata": {},
   "outputs": [
    {
     "data": {
      "text/html": [
       "<div>\n",
       "<style scoped>\n",
       "    .dataframe tbody tr th:only-of-type {\n",
       "        vertical-align: middle;\n",
       "    }\n",
       "\n",
       "    .dataframe tbody tr th {\n",
       "        vertical-align: top;\n",
       "    }\n",
       "\n",
       "    .dataframe thead th {\n",
       "        text-align: right;\n",
       "    }\n",
       "</style>\n",
       "<table border=\"1\" class=\"dataframe\">\n",
       "  <thead>\n",
       "    <tr style=\"text-align: right;\">\n",
       "      <th></th>\n",
       "      <th>seq_id</th>\n",
       "      <th>seq_desc</th>\n",
       "      <th>label</th>\n",
       "      <th>seq_length</th>\n",
       "      <th>Dna Seq</th>\n",
       "    </tr>\n",
       "  </thead>\n",
       "  <tbody>\n",
       "    <tr>\n",
       "      <th>10</th>\n",
       "      <td>ON675438.1</td>\n",
       "      <td>ON675438.1 Monkeypox virus isolate MPXV_USA_20...</td>\n",
       "      <td>Monkeypox</td>\n",
       "      <td>1300</td>\n",
       "      <td>CGAAGAGAGAAAGAGATGGTTAGTCAAGATATTTTTCTTAGTACAA...</td>\n",
       "    </tr>\n",
       "    <tr>\n",
       "      <th>11</th>\n",
       "      <td>JX878429.1</td>\n",
       "      <td>JX878429.1 Monkeypox virus isolate DRC 07-0662...</td>\n",
       "      <td>Monkeypox</td>\n",
       "      <td>1300</td>\n",
       "      <td>AAACTTTTTACGACTCCATCAGAAAGAGGTTTAATATTTTTGTGAG...</td>\n",
       "    </tr>\n",
       "    <tr>\n",
       "      <th>12</th>\n",
       "      <td>JX878428.1</td>\n",
       "      <td>JX878428.1 Monkeypox virus isolate DRC 07-0514...</td>\n",
       "      <td>Monkeypox</td>\n",
       "      <td>1300</td>\n",
       "      <td>AAACTTTTTACGACTCCATCAGAAAGAGGTTTAATATTTTTGTGAG...</td>\n",
       "    </tr>\n",
       "    <tr>\n",
       "      <th>13</th>\n",
       "      <td>JX878427.1</td>\n",
       "      <td>JX878427.1 Monkeypox virus isolate DRC 07-0480...</td>\n",
       "      <td>Monkeypox</td>\n",
       "      <td>1300</td>\n",
       "      <td>AAACTTTTTACGACTCCATCAGAAAGAGGTTTAATATTTTTGTGAG...</td>\n",
       "    </tr>\n",
       "    <tr>\n",
       "      <th>14</th>\n",
       "      <td>JX878426.1</td>\n",
       "      <td>JX878426.1 Monkeypox virus isolate DRC 07-0450...</td>\n",
       "      <td>Monkeypox</td>\n",
       "      <td>1300</td>\n",
       "      <td>GTTAGTCAAGATATTTTTCTTAGTACAAAAGTCAATGTTTTAAAAT...</td>\n",
       "    </tr>\n",
       "    <tr>\n",
       "      <th>15</th>\n",
       "      <td>JX878425.1</td>\n",
       "      <td>JX878425.1 Monkeypox virus isolate DRC 07-0354...</td>\n",
       "      <td>Monkeypox</td>\n",
       "      <td>1300</td>\n",
       "      <td>AAACTTTTTACGACTCCATCAGAAAGAGGTTTAATATTTTTGTGAG...</td>\n",
       "    </tr>\n",
       "    <tr>\n",
       "      <th>16</th>\n",
       "      <td>JX878424.1</td>\n",
       "      <td>JX878424.1 Monkeypox virus isolate DRC 07-0338...</td>\n",
       "      <td>Monkeypox</td>\n",
       "      <td>1300</td>\n",
       "      <td>AAACTTTTTACGACTCCATCAGAAAGAGGTTTAATATTTTTGTGAG...</td>\n",
       "    </tr>\n",
       "    <tr>\n",
       "      <th>17</th>\n",
       "      <td>JX878423.1</td>\n",
       "      <td>JX878423.1 Monkeypox virus isolate DRC 07-0337...</td>\n",
       "      <td>Monkeypox</td>\n",
       "      <td>1300</td>\n",
       "      <td>AAACTTTTTACGACTCCATCAGAAAGAGGTTTAATATTTTTGTGAG...</td>\n",
       "    </tr>\n",
       "    <tr>\n",
       "      <th>18</th>\n",
       "      <td>JX878422.1</td>\n",
       "      <td>JX878422.1 Monkeypox virus isolate DRC 07-0287...</td>\n",
       "      <td>Monkeypox</td>\n",
       "      <td>1300</td>\n",
       "      <td>AAACTTTTTACGACTCCATCAGAAAGAGGTTTAATATTTTTGTGAG...</td>\n",
       "    </tr>\n",
       "    <tr>\n",
       "      <th>19</th>\n",
       "      <td>JX878421.1</td>\n",
       "      <td>JX878421.1 Monkeypox virus isolate DRC 07-0286...</td>\n",
       "      <td>Monkeypox</td>\n",
       "      <td>1300</td>\n",
       "      <td>AAACTTTTTACGACTCCATCAGAAAGAGGTTTAATATTTTTGTGAG...</td>\n",
       "    </tr>\n",
       "    <tr>\n",
       "      <th>20</th>\n",
       "      <td>JX878420.1</td>\n",
       "      <td>JX878420.1 Monkeypox virus isolate DRC 07-0283...</td>\n",
       "      <td>Monkeypox</td>\n",
       "      <td>1300</td>\n",
       "      <td>GTTAGTCAAGATATTTTTCTTAGTACAAAAGTCAATGTTTTAAAAT...</td>\n",
       "    </tr>\n",
       "    <tr>\n",
       "      <th>21</th>\n",
       "      <td>JX878419.1</td>\n",
       "      <td>JX878419.1 Monkeypox virus isolate DRC 07-0275...</td>\n",
       "      <td>Monkeypox</td>\n",
       "      <td>1300</td>\n",
       "      <td>GTTAGTCAAGATATTTTTCTTAGTACAAAAGTCAATGTTTTAAAAT...</td>\n",
       "    </tr>\n",
       "    <tr>\n",
       "      <th>22</th>\n",
       "      <td>JX878418.1</td>\n",
       "      <td>JX878418.1 Monkeypox virus isolate DRC 07-0120...</td>\n",
       "      <td>Monkeypox</td>\n",
       "      <td>1300</td>\n",
       "      <td>GTTAGTCAAGATATTTTTCTTAGTACAAAAGTCAATGTTTTAAAAT...</td>\n",
       "    </tr>\n",
       "    <tr>\n",
       "      <th>23</th>\n",
       "      <td>JX878417.1</td>\n",
       "      <td>JX878417.1 Monkeypox virus isolate DRC 07-0104...</td>\n",
       "      <td>Monkeypox</td>\n",
       "      <td>1300</td>\n",
       "      <td>AAACTTTTTACGACTCCATCAGAAAGAGGTTTAATATTTTTGTGAG...</td>\n",
       "    </tr>\n",
       "    <tr>\n",
       "      <th>24</th>\n",
       "      <td>JX878416.1</td>\n",
       "      <td>JX878416.1 Monkeypox virus isolate DRC 07-0093...</td>\n",
       "      <td>Monkeypox</td>\n",
       "      <td>1300</td>\n",
       "      <td>AAACTTTTTACGACTCCATCAGAAAGAGGTTTAATATTTTTGTGAG...</td>\n",
       "    </tr>\n",
       "  </tbody>\n",
       "</table>\n",
       "</div>"
      ],
      "text/plain": [
       "        seq_id                                           seq_desc      label  \\\n",
       "10  ON675438.1  ON675438.1 Monkeypox virus isolate MPXV_USA_20...  Monkeypox   \n",
       "11  JX878429.1  JX878429.1 Monkeypox virus isolate DRC 07-0662...  Monkeypox   \n",
       "12  JX878428.1  JX878428.1 Monkeypox virus isolate DRC 07-0514...  Monkeypox   \n",
       "13  JX878427.1  JX878427.1 Monkeypox virus isolate DRC 07-0480...  Monkeypox   \n",
       "14  JX878426.1  JX878426.1 Monkeypox virus isolate DRC 07-0450...  Monkeypox   \n",
       "15  JX878425.1  JX878425.1 Monkeypox virus isolate DRC 07-0354...  Monkeypox   \n",
       "16  JX878424.1  JX878424.1 Monkeypox virus isolate DRC 07-0338...  Monkeypox   \n",
       "17  JX878423.1  JX878423.1 Monkeypox virus isolate DRC 07-0337...  Monkeypox   \n",
       "18  JX878422.1  JX878422.1 Monkeypox virus isolate DRC 07-0287...  Monkeypox   \n",
       "19  JX878421.1  JX878421.1 Monkeypox virus isolate DRC 07-0286...  Monkeypox   \n",
       "20  JX878420.1  JX878420.1 Monkeypox virus isolate DRC 07-0283...  Monkeypox   \n",
       "21  JX878419.1  JX878419.1 Monkeypox virus isolate DRC 07-0275...  Monkeypox   \n",
       "22  JX878418.1  JX878418.1 Monkeypox virus isolate DRC 07-0120...  Monkeypox   \n",
       "23  JX878417.1  JX878417.1 Monkeypox virus isolate DRC 07-0104...  Monkeypox   \n",
       "24  JX878416.1  JX878416.1 Monkeypox virus isolate DRC 07-0093...  Monkeypox   \n",
       "\n",
       "    seq_length                                            Dna Seq  \n",
       "10        1300  CGAAGAGAGAAAGAGATGGTTAGTCAAGATATTTTTCTTAGTACAA...  \n",
       "11        1300  AAACTTTTTACGACTCCATCAGAAAGAGGTTTAATATTTTTGTGAG...  \n",
       "12        1300  AAACTTTTTACGACTCCATCAGAAAGAGGTTTAATATTTTTGTGAG...  \n",
       "13        1300  AAACTTTTTACGACTCCATCAGAAAGAGGTTTAATATTTTTGTGAG...  \n",
       "14        1300  GTTAGTCAAGATATTTTTCTTAGTACAAAAGTCAATGTTTTAAAAT...  \n",
       "15        1300  AAACTTTTTACGACTCCATCAGAAAGAGGTTTAATATTTTTGTGAG...  \n",
       "16        1300  AAACTTTTTACGACTCCATCAGAAAGAGGTTTAATATTTTTGTGAG...  \n",
       "17        1300  AAACTTTTTACGACTCCATCAGAAAGAGGTTTAATATTTTTGTGAG...  \n",
       "18        1300  AAACTTTTTACGACTCCATCAGAAAGAGGTTTAATATTTTTGTGAG...  \n",
       "19        1300  AAACTTTTTACGACTCCATCAGAAAGAGGTTTAATATTTTTGTGAG...  \n",
       "20        1300  GTTAGTCAAGATATTTTTCTTAGTACAAAAGTCAATGTTTTAAAAT...  \n",
       "21        1300  GTTAGTCAAGATATTTTTCTTAGTACAAAAGTCAATGTTTTAAAAT...  \n",
       "22        1300  GTTAGTCAAGATATTTTTCTTAGTACAAAAGTCAATGTTTTAAAAT...  \n",
       "23        1300  AAACTTTTTACGACTCCATCAGAAAGAGGTTTAATATTTTTGTGAG...  \n",
       "24        1300  AAACTTTTTACGACTCCATCAGAAAGAGGTTTAATATTTTTGTGAG...  "
      ]
     },
     "execution_count": 17,
     "metadata": {},
     "output_type": "execute_result"
    }
   ],
   "source": [
    "dataframe.head(15)"
   ]
  },
  {
   "cell_type": "code",
   "execution_count": null,
   "id": "c65b88a7",
   "metadata": {},
   "outputs": [],
   "source": []
  },
  {
   "cell_type": "code",
   "execution_count": 18,
   "id": "3f8a0a3f",
   "metadata": {},
   "outputs": [
    {
     "data": {
      "text/plain": [
       "Hepatitis B               8625\n",
       "HIV                       5106\n",
       "Dengue                    4333\n",
       "TTV-like                  2487\n",
       "Human orthopneumovirus    1724\n",
       "Monkeypox                 1031\n",
       "COVID-19                   875\n",
       "Hepatitis C                811\n",
       "Influenza A                545\n",
       "Name: label, dtype: int64"
      ]
     },
     "execution_count": 18,
     "metadata": {},
     "output_type": "execute_result"
    }
   ],
   "source": [
    "dataframe['label'].value_counts()"
   ]
  },
  {
   "cell_type": "code",
   "execution_count": 19,
   "id": "3604a227",
   "metadata": {},
   "outputs": [
    {
     "name": "stdout",
     "output_type": "stream",
     "text": [
      "0\n"
     ]
    }
   ],
   "source": [
    "count=0\n",
    "for f_seq in seqs:\n",
    "    if(len(f_seq)>3000):\n",
    "        count+=1\n",
    "    \n",
    "    \n",
    "print(count)"
   ]
  },
  {
   "cell_type": "code",
   "execution_count": 20,
   "id": "daf998f2",
   "metadata": {},
   "outputs": [],
   "source": [
    "dataframe=dataframe.drop(['seq_id','seq_length','seq_desc'],axis=1)"
   ]
  },
  {
   "cell_type": "code",
   "execution_count": 21,
   "id": "e7be4545",
   "metadata": {},
   "outputs": [
    {
     "data": {
      "text/html": [
       "<div>\n",
       "<style scoped>\n",
       "    .dataframe tbody tr th:only-of-type {\n",
       "        vertical-align: middle;\n",
       "    }\n",
       "\n",
       "    .dataframe tbody tr th {\n",
       "        vertical-align: top;\n",
       "    }\n",
       "\n",
       "    .dataframe thead th {\n",
       "        text-align: right;\n",
       "    }\n",
       "</style>\n",
       "<table border=\"1\" class=\"dataframe\">\n",
       "  <thead>\n",
       "    <tr style=\"text-align: right;\">\n",
       "      <th></th>\n",
       "      <th>label</th>\n",
       "      <th>Dna Seq</th>\n",
       "    </tr>\n",
       "  </thead>\n",
       "  <tbody>\n",
       "    <tr>\n",
       "      <th>34434</th>\n",
       "      <td>HIV</td>\n",
       "      <td>TCATCACACAGCCCGCGAGGTGCATCCGGAGTACTACAAGGACTGC...</td>\n",
       "    </tr>\n",
       "    <tr>\n",
       "      <th>34435</th>\n",
       "      <td>HIV</td>\n",
       "      <td>TCATCACGTGGCCCGAGAGCAGATTGGTTGCACTTTAAATTTTCCA...</td>\n",
       "    </tr>\n",
       "    <tr>\n",
       "      <th>34436</th>\n",
       "      <td>HIV</td>\n",
       "      <td>GAGAAAATTAGGTTAAGGCCAGGGGGAAAGAAACATTATATGCTAA...</td>\n",
       "    </tr>\n",
       "    <tr>\n",
       "      <th>34437</th>\n",
       "      <td>HIV</td>\n",
       "      <td>GAGAAAATTAGGTTAAGGCCAGGGGGAAAGAAACACTATAGGCTAA...</td>\n",
       "    </tr>\n",
       "    <tr>\n",
       "      <th>34438</th>\n",
       "      <td>HIV</td>\n",
       "      <td>GAGAGAATTAAGTTAAGGCCAGGGGGAAAGAAACACTATATGCTAA...</td>\n",
       "    </tr>\n",
       "    <tr>\n",
       "      <th>34439</th>\n",
       "      <td>HIV</td>\n",
       "      <td>GAGAAAATTAGGTTAAGGCCAGGGGGAAAGAAACACTATATGCTAA...</td>\n",
       "    </tr>\n",
       "    <tr>\n",
       "      <th>34440</th>\n",
       "      <td>HIV</td>\n",
       "      <td>GAGAAAATTAGGTTAAGGCCAGGGGGAAAGAAACACTATATGCTAA...</td>\n",
       "    </tr>\n",
       "    <tr>\n",
       "      <th>34441</th>\n",
       "      <td>HIV</td>\n",
       "      <td>GAGAAAATTAGGTTAAGGCCAGGGGGAAAGAAACACTATATGCTAA...</td>\n",
       "    </tr>\n",
       "    <tr>\n",
       "      <th>34442</th>\n",
       "      <td>HIV</td>\n",
       "      <td>GAAAAAATTAGGTTAAGGCCAGGGGGAAAGAAACACTATATGCTAA...</td>\n",
       "    </tr>\n",
       "    <tr>\n",
       "      <th>34443</th>\n",
       "      <td>HIV</td>\n",
       "      <td>GAGAAAATTAGGTTAAGGCCAGGGGGAAAGAAACATTATATGCTAA...</td>\n",
       "    </tr>\n",
       "    <tr>\n",
       "      <th>34444</th>\n",
       "      <td>HIV</td>\n",
       "      <td>GAGAAAATTAGGTTAAGGCCAGGGGGAAAGAAACACTATATGCTAA...</td>\n",
       "    </tr>\n",
       "    <tr>\n",
       "      <th>34445</th>\n",
       "      <td>HIV</td>\n",
       "      <td>GAGAAAATTAGGTTAAGGCCAGGGGGAAAGAAACGCTATATGCTAA...</td>\n",
       "    </tr>\n",
       "    <tr>\n",
       "      <th>34446</th>\n",
       "      <td>HIV</td>\n",
       "      <td>TAGAACAGTTACAGTCAACTCTCAAAACAGGATCAGAAGAACTTAA...</td>\n",
       "    </tr>\n",
       "    <tr>\n",
       "      <th>34447</th>\n",
       "      <td>HIV</td>\n",
       "      <td>TCTCAAGACAGGATCAGAAGAACTTAGATCATTATATAATACAGTA...</td>\n",
       "    </tr>\n",
       "    <tr>\n",
       "      <th>34475</th>\n",
       "      <td>HIV</td>\n",
       "      <td>GGAGGCTAGAAGGAGAGAGATGGGTGCGAGAGCGTCAGTATTAAGC...</td>\n",
       "    </tr>\n",
       "  </tbody>\n",
       "</table>\n",
       "</div>"
      ],
      "text/plain": [
       "      label                                            Dna Seq\n",
       "34434   HIV  TCATCACACAGCCCGCGAGGTGCATCCGGAGTACTACAAGGACTGC...\n",
       "34435   HIV  TCATCACGTGGCCCGAGAGCAGATTGGTTGCACTTTAAATTTTCCA...\n",
       "34436   HIV  GAGAAAATTAGGTTAAGGCCAGGGGGAAAGAAACATTATATGCTAA...\n",
       "34437   HIV  GAGAAAATTAGGTTAAGGCCAGGGGGAAAGAAACACTATAGGCTAA...\n",
       "34438   HIV  GAGAGAATTAAGTTAAGGCCAGGGGGAAAGAAACACTATATGCTAA...\n",
       "34439   HIV  GAGAAAATTAGGTTAAGGCCAGGGGGAAAGAAACACTATATGCTAA...\n",
       "34440   HIV  GAGAAAATTAGGTTAAGGCCAGGGGGAAAGAAACACTATATGCTAA...\n",
       "34441   HIV  GAGAAAATTAGGTTAAGGCCAGGGGGAAAGAAACACTATATGCTAA...\n",
       "34442   HIV  GAAAAAATTAGGTTAAGGCCAGGGGGAAAGAAACACTATATGCTAA...\n",
       "34443   HIV  GAGAAAATTAGGTTAAGGCCAGGGGGAAAGAAACATTATATGCTAA...\n",
       "34444   HIV  GAGAAAATTAGGTTAAGGCCAGGGGGAAAGAAACACTATATGCTAA...\n",
       "34445   HIV  GAGAAAATTAGGTTAAGGCCAGGGGGAAAGAAACGCTATATGCTAA...\n",
       "34446   HIV  TAGAACAGTTACAGTCAACTCTCAAAACAGGATCAGAAGAACTTAA...\n",
       "34447   HIV  TCTCAAGACAGGATCAGAAGAACTTAGATCATTATATAATACAGTA...\n",
       "34475   HIV  GGAGGCTAGAAGGAGAGAGATGGGTGCGAGAGCGTCAGTATTAAGC..."
      ]
     },
     "execution_count": 21,
     "metadata": {},
     "output_type": "execute_result"
    }
   ],
   "source": [
    "dataframe.tail(15)"
   ]
  },
  {
   "cell_type": "code",
   "execution_count": 22,
   "id": "6040d5fe",
   "metadata": {},
   "outputs": [
    {
     "data": {
      "text/plain": [
       "Text(0.5, 1.0, 'label distribution of viruses DNA')"
      ]
     },
     "execution_count": 22,
     "metadata": {},
     "output_type": "execute_result"
    },
    {
     "data": {
      "image/png": "[encoded data removed]",
      "text/plain": [
       "<Figure size 432x288 with 1 Axes>"
      ]
     },
     "metadata": {
      "needs_background": "light"
     },
     "output_type": "display_data"
    }
   ],
   "source": [
    "dataframe['label'].value_counts().sort_index().plot.bar()\n",
    "plt.title(\"label distribution of viruses DNA\")"
   ]
  },
  {
   "cell_type": "code",
   "execution_count": 23,
   "id": "4b5ef7e2",
   "metadata": {},
   "outputs": [],
   "source": [
    "def clean_Labels(x):\n",
    "    \n",
    "    if x=='Monkeypox':\n",
    "        return 1\n",
    "    if x == 'HIV':\n",
    "        return 2\n",
    "    if x=='Dengue':\n",
    "        return 3\n",
    "    if x == 'Human orthopneumovirus':\n",
    "        return 4\n",
    "    if x=='Hepatitis B':\n",
    "        return 5\n",
    "    if x == 'COVID-19':\n",
    "        return 6\n",
    "    if x=='Hepatitis C':\n",
    "        return 7\n",
    "    if x=='TTV-like':\n",
    "        return 8\n",
    "    if x=='Influenza A':\n",
    "        return 9\n",
    "    \n",
    "    \n",
    "    return float(x)"
   ]
  },
  {
   "cell_type": "code",
   "execution_count": 24,
   "id": "8fca28fc",
   "metadata": {},
   "outputs": [],
   "source": [
    "dataframe['label']=dataframe['label'].apply(clean_Labels)"
   ]
  },
  {
   "cell_type": "code",
   "execution_count": 25,
   "id": "e8b6b930",
   "metadata": {},
   "outputs": [
    {
     "data": {
      "text/plain": [
       "array([1, 1, 1, ..., 2, 2, 2], dtype=int64)"
      ]
     },
     "execution_count": 25,
     "metadata": {},
     "output_type": "execute_result"
    }
   ],
   "source": [
    "dataframe['label'].to_numpy()"
   ]
  },
  {
   "cell_type": "code",
   "execution_count": 26,
   "id": "4e9f6942",
   "metadata": {},
   "outputs": [
    {
     "data": {
      "text/plain": [
       "array([1, 2, 5, 3, 6, 4, 7, 8, 9], dtype=int64)"
      ]
     },
     "execution_count": 26,
     "metadata": {},
     "output_type": "execute_result"
    }
   ],
   "source": [
    "dataframe['label'].unique()"
   ]
  },
  {
   "cell_type": "code",
   "execution_count": 27,
   "id": "bb3d6e40",
   "metadata": {},
   "outputs": [
    {
     "data": {
      "text/plain": [
       "Text(0.5, 1.0, 'label distribution of viruses DNA')"
      ]
     },
     "execution_count": 27,
     "metadata": {},
     "output_type": "execute_result"
    },
    {
     "data": {
      "image/png": "[encoded data removed]",
      "text/plain": [
       "<Figure size 432x288 with 1 Axes>"
      ]
     },
     "metadata": {
      "needs_background": "light"
     },
     "output_type": "display_data"
    }
   ],
   "source": [
    "dataframe['label'].value_counts().sort_index().plot.bar()\n",
    "plt.title(\"label distribution of viruses DNA\")"
   ]
  },
  {
   "cell_type": "code",
   "execution_count": 28,
   "id": "61c13da3",
   "metadata": {},
   "outputs": [
    {
     "data": {
      "text/html": [
       "<div>\n",
       "<style scoped>\n",
       "    .dataframe tbody tr th:only-of-type {\n",
       "        vertical-align: middle;\n",
       "    }\n",
       "\n",
       "    .dataframe tbody tr th {\n",
       "        vertical-align: top;\n",
       "    }\n",
       "\n",
       "    .dataframe thead th {\n",
       "        text-align: right;\n",
       "    }\n",
       "</style>\n",
       "<table border=\"1\" class=\"dataframe\">\n",
       "  <thead>\n",
       "    <tr style=\"text-align: right;\">\n",
       "      <th></th>\n",
       "      <th>label</th>\n",
       "      <th>Dna Seq</th>\n",
       "    </tr>\n",
       "  </thead>\n",
       "  <tbody>\n",
       "    <tr>\n",
       "      <th>10</th>\n",
       "      <td>1</td>\n",
       "      <td>CGAAGAGAGAAAGAGATGGTTAGTCAAGATATTTTTCTTAGTACAA...</td>\n",
       "    </tr>\n",
       "    <tr>\n",
       "      <th>11</th>\n",
       "      <td>1</td>\n",
       "      <td>AAACTTTTTACGACTCCATCAGAAAGAGGTTTAATATTTTTGTGAG...</td>\n",
       "    </tr>\n",
       "    <tr>\n",
       "      <th>12</th>\n",
       "      <td>1</td>\n",
       "      <td>AAACTTTTTACGACTCCATCAGAAAGAGGTTTAATATTTTTGTGAG...</td>\n",
       "    </tr>\n",
       "    <tr>\n",
       "      <th>13</th>\n",
       "      <td>1</td>\n",
       "      <td>AAACTTTTTACGACTCCATCAGAAAGAGGTTTAATATTTTTGTGAG...</td>\n",
       "    </tr>\n",
       "    <tr>\n",
       "      <th>14</th>\n",
       "      <td>1</td>\n",
       "      <td>GTTAGTCAAGATATTTTTCTTAGTACAAAAGTCAATGTTTTAAAAT...</td>\n",
       "    </tr>\n",
       "  </tbody>\n",
       "</table>\n",
       "</div>"
      ],
      "text/plain": [
       "    label                                            Dna Seq\n",
       "10      1  CGAAGAGAGAAAGAGATGGTTAGTCAAGATATTTTTCTTAGTACAA...\n",
       "11      1  AAACTTTTTACGACTCCATCAGAAAGAGGTTTAATATTTTTGTGAG...\n",
       "12      1  AAACTTTTTACGACTCCATCAGAAAGAGGTTTAATATTTTTGTGAG...\n",
       "13      1  AAACTTTTTACGACTCCATCAGAAAGAGGTTTAATATTTTTGTGAG...\n",
       "14      1  GTTAGTCAAGATATTTTTCTTAGTACAAAAGTCAATGTTTTAAAAT..."
      ]
     },
     "execution_count": 28,
     "metadata": {},
     "output_type": "execute_result"
    }
   ],
   "source": [
    "dataframe.head()"
   ]
  },
  {
   "cell_type": "markdown",
   "id": "69963092",
   "metadata": {},
   "source": [
    "# DNA sequence as a “language”, known as k-mer counting"
   ]
  },
  {
   "cell_type": "markdown",
   "id": "f0e1e16e",
   "metadata": {},
   "source": [
    "A hurdle that still remains is that none of these above methods results in vectors of uniform length, and that is a necessity for feeding data to a classification or regression algorithm. So with the above methods, you have to resort to things like truncating sequences or padding with “n” or “0” to get vectors of uniform length.\n",
    "\n",
    "DNA and protein sequences can be seen as the language of life. The language encodes instructions as well as functions for the molecules that are found in all life forms. The sequence language resemblance continues with the genome as the book, subsequences (genes and gene families) are sentences and chapters, k-mers and peptides are words, and nucleotide bases and amino acids are the alphabets. Since the relationship seems so likely, it stands to reason that the natural language processing(NLP) should also implement the natural language of DNA and protein sequences.\n",
    "\n",
    "The method we use here is manageable and easy. We first take the long biological sequence and break it down into k-mer length overlapping “words”. For example, if we use “words” of length 6 (hexamers), “ATGCATGCA” becomes: ‘ATGCAT’, ‘TGCATG’, ‘GCATGC’, ‘CATGCA’. Hence our example sequence is broken down into 4 hexamer words.\n",
    "\n",
    "In genomics, we refer to these types of manipulations as “k-mer counting”, or counting the occurrences of each possible k-mer sequence and Python natural language processing tools make it super easy."
   ]
  },
  {
   "cell_type": "code",
   "execution_count": 29,
   "id": "aaddf329",
   "metadata": {},
   "outputs": [],
   "source": [
    "def Kmers_funct(seq, size=3):\n",
    "    return [seq[x:x+size].lower() for x in range(len(seq) - size + 1)]"
   ]
  },
  {
   "cell_type": "code",
   "execution_count": 30,
   "id": "2fdb4147",
   "metadata": {},
   "outputs": [
    {
     "data": {
      "text/plain": [
       "['gtgccca',\n",
       " 'tgcccag',\n",
       " 'gcccagg',\n",
       " 'cccaggt',\n",
       " 'ccaggtt',\n",
       " 'caggttc',\n",
       " 'aggttca',\n",
       " 'ggttcag',\n",
       " 'gttcagt',\n",
       " 'ttcagtg',\n",
       " 'tcagtga',\n",
       " 'cagtgag',\n",
       " 'agtgagt',\n",
       " 'gtgagtg',\n",
       " 'tgagtga',\n",
       " 'gagtgac',\n",
       " 'agtgaca',\n",
       " 'gtgacac',\n",
       " 'tgacaca',\n",
       " 'gacacag',\n",
       " 'acacagg',\n",
       " 'cacaggc',\n",
       " 'acaggca',\n",
       " 'caggcag']"
      ]
     },
     "execution_count": 30,
     "metadata": {},
     "output_type": "execute_result"
    }
   ],
   "source": [
    "#So let’s try it out with a simple sequence:\n",
    "mySeq = 'GTGCCCAGGTTCAGTGAGTGACACAGGCAG'\n",
    "Kmers_funct(mySeq, size=7)"
   ]
  },
  {
   "cell_type": "markdown",
   "id": "c6d8d2fd",
   "metadata": {},
   "source": [
    "It returns a list of k-mer “words.” You can then join the “words” into a “sentence”, then apply your favorite natural language processing methods on the “sentences” as you normally would."
   ]
  },
  {
   "cell_type": "code",
   "execution_count": 31,
   "id": "81691058",
   "metadata": {},
   "outputs": [
    {
     "data": {
      "text/plain": [
       "'gtgc tgcc gccc ccca ccag cagg aggt ggtt gttc ttca tcag cagt agtg gtga tgag gagt agtg gtga tgac gaca acac caca acag cagg aggc ggca gcag'"
      ]
     },
     "execution_count": 31,
     "metadata": {},
     "output_type": "execute_result"
    }
   ],
   "source": [
    "words = Kmers_funct(mySeq, size=4)\n",
    "joined_sentence = ' '.join(words)\n",
    "joined_sentence"
   ]
  },
  {
   "cell_type": "markdown",
   "id": "227ff115",
   "metadata": {},
   "source": [
    "You can tune both the word length and the amount of overlap. This allows you to determine how the DNA sequence information and vocabulary size will be important in your application. For example, if you use words of length 6, and there are 4 letters, you have a vocabulary of size 4096 possible words. You can then go on and create a bag-of-words model like you would in NLP.\n",
    "\n",
    "Let’s make a couple more “sentences” to make it more interesting."
   ]
  },
  {
   "cell_type": "code",
   "execution_count": 32,
   "id": "c6289ab5",
   "metadata": {},
   "outputs": [],
   "source": [
    "mySeq1 = 'TCTCACACATGTGCCAATCACTGTCACCC'\n",
    "mySeq2 = 'GTGCCCAGGTTCAGTGAGTGACACAGGCAG'\n",
    "sentence1 = ' '.join(Kmers_funct(mySeq1, size=6))\n",
    "sentence2 = ' '.join(Kmers_funct(mySeq2, size=6))"
   ]
  },
  {
   "cell_type": "code",
   "execution_count": 33,
   "id": "29baf0e5",
   "metadata": {},
   "outputs": [
    {
     "name": "stderr",
     "output_type": "stream",
     "text": [
      "C:\\Users\\Administrator\\anaconda3\\envs\\pytorchenv\\lib\\site-packages\\sklearn\\utils\\validation.py:37: DeprecationWarning: distutils Version classes are deprecated. Use packaging.version instead.\n",
      "  LARGE_SPARSE_SUPPORTED = LooseVersion(scipy_version) >= '0.14.0'\n"
     ]
    },
    {
     "data": {
      "text/plain": [
       "array([[0, 1, 0, 0, 1, 0, 0, 0, 1, 0, 1, 0, 2, 0, 0, 0, 0, 0, 1, 0, 0, 0,\n",
       "        0, 2, 0, 0, 1, 0, 0, 0, 1, 0, 1, 0, 0, 0, 1, 0, 1, 0, 1, 0, 1, 0,\n",
       "        1, 1, 0, 0, 2, 0, 0, 1, 0, 0, 1, 0, 0, 0, 0, 1, 0, 0, 1, 0, 1, 0,\n",
       "        1, 0, 0, 0, 0, 1, 0],\n",
       "       [1, 0, 0, 1, 0, 0, 1, 1, 0, 0, 0, 0, 0, 0, 0, 1, 1, 1, 0, 1, 0, 1,\n",
       "        1, 0, 0, 0, 0, 0, 1, 1, 0, 0, 0, 0, 1, 1, 0, 0, 0, 0, 0, 1, 0, 0,\n",
       "        0, 0, 0, 1, 0, 0, 0, 0, 1, 0, 0, 0, 1, 1, 1, 0, 0, 1, 0, 0, 0, 0,\n",
       "        0, 1, 0, 1, 1, 0, 0],\n",
       "       [0, 0, 1, 0, 0, 1, 0, 0, 0, 1, 0, 1, 0, 1, 1, 0, 0, 0, 0, 0, 1, 0,\n",
       "        0, 0, 1, 1, 0, 1, 0, 0, 0, 1, 0, 1, 0, 0, 0, 1, 0, 1, 0, 0, 0, 1,\n",
       "        0, 0, 1, 0, 0, 1, 1, 0, 0, 1, 0, 1, 0, 0, 0, 0, 1, 0, 0, 1, 0, 1,\n",
       "        0, 0, 1, 0, 0, 0, 1]], dtype=int64)"
      ]
     },
     "execution_count": 33,
     "metadata": {},
     "output_type": "execute_result"
    }
   ],
   "source": [
    "#Creating the Bag of Words model:\n",
    "from sklearn.feature_extraction.text import CountVectorizer\n",
    "cv = CountVectorizer()\n",
    "X = cv.fit_transform([joined_sentence, sentence1, sentence2]).toarray()\n",
    "X"
   ]
  },
  {
   "cell_type": "code",
   "execution_count": 34,
   "id": "01d1f8d5",
   "metadata": {},
   "outputs": [],
   "source": [
    "dataframe['words'] = dataframe.apply(lambda x: Kmers_funct(x['Dna Seq']), axis=1)\n",
    "dataframe = dataframe.drop('Dna Seq', axis=1)"
   ]
  },
  {
   "cell_type": "code",
   "execution_count": 35,
   "id": "41606387",
   "metadata": {},
   "outputs": [
    {
     "data": {
      "text/html": [
       "<div>\n",
       "<style scoped>\n",
       "    .dataframe tbody tr th:only-of-type {\n",
       "        vertical-align: middle;\n",
       "    }\n",
       "\n",
       "    .dataframe tbody tr th {\n",
       "        vertical-align: top;\n",
       "    }\n",
       "\n",
       "    .dataframe thead th {\n",
       "        text-align: right;\n",
       "    }\n",
       "</style>\n",
       "<table border=\"1\" class=\"dataframe\">\n",
       "  <thead>\n",
       "    <tr style=\"text-align: right;\">\n",
       "      <th></th>\n",
       "      <th>label</th>\n",
       "      <th>words</th>\n",
       "    </tr>\n",
       "  </thead>\n",
       "  <tbody>\n",
       "    <tr>\n",
       "      <th>10</th>\n",
       "      <td>1</td>\n",
       "      <td>[cga, gaa, aag, aga, gag, aga, gag, aga, gaa, ...</td>\n",
       "    </tr>\n",
       "    <tr>\n",
       "      <th>11</th>\n",
       "      <td>1</td>\n",
       "      <td>[aaa, aac, act, ctt, ttt, ttt, ttt, tta, tac, ...</td>\n",
       "    </tr>\n",
       "    <tr>\n",
       "      <th>12</th>\n",
       "      <td>1</td>\n",
       "      <td>[aaa, aac, act, ctt, ttt, ttt, ttt, tta, tac, ...</td>\n",
       "    </tr>\n",
       "    <tr>\n",
       "      <th>13</th>\n",
       "      <td>1</td>\n",
       "      <td>[aaa, aac, act, ctt, ttt, ttt, ttt, tta, tac, ...</td>\n",
       "    </tr>\n",
       "    <tr>\n",
       "      <th>14</th>\n",
       "      <td>1</td>\n",
       "      <td>[gtt, tta, tag, agt, gtc, tca, caa, aag, aga, ...</td>\n",
       "    </tr>\n",
       "  </tbody>\n",
       "</table>\n",
       "</div>"
      ],
      "text/plain": [
       "    label                                              words\n",
       "10      1  [cga, gaa, aag, aga, gag, aga, gag, aga, gaa, ...\n",
       "11      1  [aaa, aac, act, ctt, ttt, ttt, ttt, tta, tac, ...\n",
       "12      1  [aaa, aac, act, ctt, ttt, ttt, ttt, tta, tac, ...\n",
       "13      1  [aaa, aac, act, ctt, ttt, ttt, ttt, tta, tac, ...\n",
       "14      1  [gtt, tta, tag, agt, gtc, tca, caa, aag, aga, ..."
      ]
     },
     "execution_count": 35,
     "metadata": {},
     "output_type": "execute_result"
    }
   ],
   "source": [
    "dataframe.head()"
   ]
  },
  {
   "cell_type": "code",
   "execution_count": 36,
   "id": "65c925d7",
   "metadata": {},
   "outputs": [
    {
     "data": {
      "text/plain": [
       "10       [cga, gaa, aag, aga, gag, aga, gag, aga, gaa, ...\n",
       "11       [aaa, aac, act, ctt, ttt, ttt, ttt, tta, tac, ...\n",
       "12       [aaa, aac, act, ctt, ttt, ttt, ttt, tta, tac, ...\n",
       "13       [aaa, aac, act, ctt, ttt, ttt, ttt, tta, tac, ...\n",
       "14       [gtt, tta, tag, agt, gtc, tca, caa, aag, aga, ...\n",
       "15       [aaa, aac, act, ctt, ttt, ttt, ttt, tta, tac, ...\n",
       "16       [aaa, aac, act, ctt, ttt, ttt, ttt, tta, tac, ...\n",
       "17       [aaa, aac, act, ctt, ttt, ttt, ttt, tta, tac, ...\n",
       "18       [aaa, aac, act, ctt, ttt, ttt, ttt, tta, tac, ...\n",
       "19       [aaa, aac, act, ctt, ttt, ttt, ttt, tta, tac, ...\n",
       "20       [gtt, tta, tag, agt, gtc, tca, caa, aag, aga, ...\n",
       "21       [gtt, tta, tag, agt, gtc, tca, caa, aag, aga, ...\n",
       "22       [gtt, tta, tag, agt, gtc, tca, caa, aag, aga, ...\n",
       "23       [aaa, aac, act, ctt, ttt, ttt, ttt, tta, tac, ...\n",
       "24       [aaa, aac, act, ctt, ttt, ttt, ttt, tta, tac, ...\n",
       "25       [aaa, aac, act, ctt, ttt, ttt, ttt, tta, tac, ...\n",
       "26       [aaa, aac, act, ctt, ttt, ttt, ttt, tta, tac, ...\n",
       "27       [aaa, aac, act, ctt, ttt, ttt, ttt, tta, tac, ...\n",
       "28       [aaa, aac, act, ctt, ttt, ttt, ttt, tta, tac, ...\n",
       "29       [aaa, aaa, aac, act, ctt, ttt, ttt, ttt, tta, ...\n",
       "30       [aaa, aac, act, ctt, ttt, ttt, ttt, tta, tac, ...\n",
       "31       [aaa, aac, act, ctt, ttt, ttt, ttt, tta, tac, ...\n",
       "32       [gtt, tta, tag, agt, gtc, tca, caa, aag, aga, ...\n",
       "33       [aaa, aac, act, ctt, ttt, ttt, ttt, tta, tac, ...\n",
       "34       [cga, gaa, aag, aga, gag, aga, gag, aga, gaa, ...\n",
       "35       [ata, taa, aaa, aaa, aaa, aac, act, ctt, ttt, ...\n",
       "36       [aaa, aag, agt, gtc, tca, caa, aat, atg, tgt, ...\n",
       "37       [cga, gaa, aag, aga, gag, aga, gag, aga, gaa, ...\n",
       "38       [acc, ccc, cca, cat, atc, tcg, cga, gaa, aag, ...\n",
       "39       [acc, ccc, cca, cat, atc, tcg, cga, gaa, aag, ...\n",
       "                               ...                        \n",
       "34419    [gat, atg, tgc, gca, cat, atg, tgg, ggg, gga, ...\n",
       "34420    [tta, tag, aga, gat, ata, taa, aaa, aat, atg, ...\n",
       "34421    [ttg, tgg, gga, gat, ata, tag, aga, gat, atg, ...\n",
       "34422    [aga, gag, agg, ggc, gcg, cga, gag, agg, ggg, ...\n",
       "34423    [aat, atc, tct, ctc, tct, cta, tag, agc, gca, ...\n",
       "34424    [att, tta, tag, aga, gat, atg, tgc, gca, cat, ...\n",
       "34425    [cca, cat, atc, tca, cac, acg, cgt, gta, tag, ...\n",
       "34426    [tca, cat, atc, tca, cat, ata, taa, aag, agg, ...\n",
       "34427    [cat, atc, tca, cat, ata, taa, aag, agg, ggc, ...\n",
       "34428    [gag, aga, gac, aca, cac, aca, cat, ata, tag, ...\n",
       "34429    [tca, cat, atc, tca, cac, aca, cat, atg, tgg, ...\n",
       "34430    [tcg, cgt, gtc, tca, cac, aca, cat, ata, tag, ...\n",
       "34431    [aga, gac, aca, cac, aca, cat, ata, tag, agc, ...\n",
       "34432    [tca, cag, agc, gca, cat, atg, tgt, gtg, tgg, ...\n",
       "34433    [gag, aga, gac, aca, cac, aca, cat, ata, tag, ...\n",
       "34434    [tca, cat, atc, tca, cac, aca, cac, aca, cag, ...\n",
       "34435    [tca, cat, atc, tca, cac, acg, cgt, gtg, tgg, ...\n",
       "34436    [gag, aga, gaa, aaa, aaa, aat, att, tta, tag, ...\n",
       "34437    [gag, aga, gaa, aaa, aaa, aat, att, tta, tag, ...\n",
       "34438    [gag, aga, gag, aga, gaa, aat, att, tta, taa, ...\n",
       "34439    [gag, aga, gaa, aaa, aaa, aat, att, tta, tag, ...\n",
       "34440    [gag, aga, gaa, aaa, aaa, aat, att, tta, tag, ...\n",
       "34441    [gag, aga, gaa, aaa, aaa, aat, att, tta, tag, ...\n",
       "34442    [gaa, aaa, aaa, aaa, aaa, aat, att, tta, tag, ...\n",
       "34443    [gag, aga, gaa, aaa, aaa, aat, att, tta, tag, ...\n",
       "34444    [gag, aga, gaa, aaa, aaa, aat, att, tta, tag, ...\n",
       "34445    [gag, aga, gaa, aaa, aaa, aat, att, tta, tag, ...\n",
       "34446    [tag, aga, gaa, aac, aca, cag, agt, gtt, tta, ...\n",
       "34447    [tct, ctc, tca, caa, aag, aga, gac, aca, cag, ...\n",
       "34475    [gga, gag, agg, ggc, gct, cta, tag, aga, gaa, ...\n",
       "Name: words, Length: 25537, dtype: object"
      ]
     },
     "execution_count": 36,
     "metadata": {},
     "output_type": "execute_result"
    }
   ],
   "source": [
    "dataframe['words']"
   ]
  },
  {
   "cell_type": "markdown",
   "id": "90a9782a",
   "metadata": {},
   "source": [
    "# separate the labels"
   ]
  },
  {
   "cell_type": "markdown",
   "id": "360716d8",
   "metadata": {},
   "source": [
    "We need to now convert the lists of k-mers for each gene into string sentences of words that can be used to create the Bag of Words model. We will make a target variable y to hold the class labels."
   ]
  },
  {
   "cell_type": "code",
   "execution_count": 37,
   "id": "59fe0e7e",
   "metadata": {},
   "outputs": [],
   "source": [
    "dna_texts = list(dataframe['words'])\n",
    "for item in range(len(dna_texts)):\n",
    "    dna_texts[item] =' '.join(dna_texts[item])\n",
    "#separate labels\n",
    "y_data = dataframe.iloc[:, 0].values"
   ]
  },
  {
   "cell_type": "code",
   "execution_count": 38,
   "id": "139d6fb5",
   "metadata": {},
   "outputs": [
    {
     "name": "stdout",
     "output_type": "stream",
     "text": [
      "aaa aac act ctt ttt ttt ttt tta tac acg cga gac act ctc tcc cca cat atc tca cag aga gaa aaa aag aga gag agg ggt gtt ttt tta taa aat ata tat att ttt ttt ttt ttg tgt gtg tga gag aga gac acc ccc cca cat atc tcg cga gaa aag aga gag aga gag aga gaa aaa aag agg gga gat ata taa aaa aaa aaa aac act ctt ttt ttt ttt tta tac acg cga gac act ctc tcc cca cat atc tca cag aga gaa aaa aag aga gag agg ggt gtt ttt tta taa aat ata tat att ttt ttt ttt ttg tgt gtg tga gag aga gac acc ccc cca cat atc tcg cga gac acg cga gag aga gag aga gaa aaa aag agg gga gat ata taa aaa aaa aaa aac act ctt ttt ttt ttt tta tac acg cga gac act ctc tcc cca cat atc tca cag aga gaa aaa aag aga gag agg ggt gtt ttt tta taa aat ata tat att ttt ttt ttt ttg tgt gtg tga gag aga gac acc ccc cca cat atc tcg cga gac acg cga gag aga gag aga gaa aaa aag aga gag aga gat atg tgg ggt gtt tta tag agt gtc tca caa aag aga gat ata tat att ttt ttt ttt ttc tct ctt tta tag agt gta tac aca caa aaa aaa aag agt gtc tca caa aat atg tgt gtt ttt ttt tta taa aaa aaa aat ata tat ata tat atg tgg gga gac acg cga gag aga gaa aat att tta taa aat att ttt ttg tgt gtc tct ctg tgt gta tat ata taa aaa aaa aaa aac act ctt ttg tgt gtg tgt gtg tga gaa aaa aat att tta tat atg tgt gta tac act cta tag aga gag aga gaa aaa aaa aaa aaa aac acg cgt gtg tga gag agc gca cag agt gtg tgt gtc tcc ccc ccc cct cta tac aca cat atg tgg gga gat att ttt ttt tta tac aca cag aga gat atc tca cat att ttt tta tat ata tat att ttc tcc cca caa aaa aaa aaa aat ata tat att tta taa aac act cta tat ata tat ata tac acg cgt gtt ttt tta tat att tta tat ata tat atg tga gat atg tgt gtt tta taa aac acg cgt gtg tgt gta taa aaa aat att tta tat ata taa aaa aac aca cat att tta tat att ttt ttt tta tat atg tga gat atg tgc gca caa aat att ttg tgt gtc tct ctg tga gac aca caa aac acc cca cat att ttg tgg ggc gca cat ata taa aag agg gga gat ata tat att ttg tga gat ata taa aag agc gct ctc tct cta tac acg cga gag aga gaa aat ata tat ata tat att ttg tgt gtt ttg tgg gga gac acg cgt gtt tta tat atc tcg cgt gtt ttt tta tac acg cga gaa aaa aat ata tag agt gtt ttg tga gag aga gac aca cat atc tca cag aga gaa aaa aag aga gag agg ggt gtt ttt tta taa aat ata tat att ttt ttt ttt ttg tgt gtg tga gag aga gac acc cca cat atc tcg cga gaa aag aga gag aga gag aga gaa aaa aag aga gag aga gaa aat ata taa aaa aaa aaa aat ata tat att ttt ttt ttt ttt ttt ttg tgt gta taa aaa aaa aac act ctt ttt ttt ttt ttt tta tat atg tga gag aga gac aca caa aag aga gag aga gag aga gaa aaa aag aga gag aga gaa aat ata tac acg cga gaa aat ata tag agt gtg tga gat atc tca cat ata tat atc tcg cgt gta tat atc tca cac aca cat ata tat att ttg tga gaa aaa aac aca cag aga gaa aaa aag aga gaa aag aga gaa aag agt gta taa aac acg cga gag aga gag agg ggt gta taa aac act ctt ttt ttt ttt ttg tgt gtg tga gaa aat atg tgt gta tag agt gtt tta taa aaa aac aca cat att ttt ttt ttt ttg tgt gtt ttt ttt ttg tgc gca caa aaa aac acc ccg cgg gga gaa aat ata tat ata tag agt gta tac acc ccc ccg cgg ggt gta tac aca cac act ctt ttt ttt ttt ttt tta taa aat att ttc tcg cgt gtg tgg ggt gtg tgc gcg cgg ggt gtg tgt gtc tct ctg tga gaa aat atc tcg cgt gtt ttt ttg tga gat att tta taa aac acc ccc cca caa aac act ctc tca cat atc tcc cca cat att ttt ttt ttc tca cag aga gat atg tga gaa aat ata tag aga gag agt gtt tta tat atc tcg cga gat att ttc tca cag aga gac aca cac aca cat atg tgc gct ctt ttt ttg tga gag agt gtt ttt ttt ttg tgt gtt ttg tga gaa aat atc tcg cga gat atg tga gag agt gtg tga gaa aag agt gta tat atc tca cat atc tcg cgg ggt gtt ttg tgc gca cac acc cct ctt ttc tca cag aga gat atg tgc gcc ccg cga gat atc tcc ccg cgt gtc tcg cga gac aca cat ata tac act ctt ttg tga gaa aat atc tcc cca cat atc tcc cct ctt ttg tga gac act ctt ttc tca caa aag agt gtt ttc tca cag aga gat atg tga gat att ttc tcc cct ctc tca cac aca cac aca cat atg tgt gtc tct ctc tcc ccg cga gat ata tac acg cgt gta tac acg cgc gct cta taa aaa aac act ctc tct cta tag agg ggt gtt ttc tct ctt tta taa aac aca cac aca cat att ttt ttt ttg tgt gta tat atc tca caa aac acg cga gat atc tcg cgt gtt ttg tga gaa aac acc ccg cga gat atg tga gat ata tat atc tct ctt ttt ttg tgt gta taa aac act ctc tca cac act ctt ttt ttc tct ctt tta tat atg tgt gtg tga gag aga gat atg tgt gtt tta tag aga gac acc ccc cca caa aag agt gta tac act ctg tgg gga gat atg tgg ggg ggt gtc tct ctt ttg tga gat atg tgt gtc tcg cgc gct ctg tgt gtc tct ctt ttt ttc tct ctc tct ctt ttc tct ctt ttc tcg cgc gct cta tac aca cat atc tct ctg tga gat atg tgt gtc tcg cga gat ata tag aga gac aca cat atc tct ctc tca cac aca cag agt gtc tct ctt ttt ttg tga gat atc tca cat ata tag agc gcc cca cag aga gag agc gct ctt ttc tct ctt ttc tca cac acg cgc gcg cgt gtg tga gat atc tcg cgc gcg cgg ggg gga gag aga gag agt gtc tcc cct ctt tta tac acc cct ctt ttg tgt gtc tcc cct ctg tgg ggt gtg tga gac aca cac acg cgc gct ctg tgg gga gac aca caa aat atc tct cta tag agt gta tat att ttc tca cac aca cag agt gtg tgt gtt ttt ttc tcc cca cat atc tca cag aga gag agg gga gat att ttc tcg cgg gga gag aga gat atg tgg gga gat atg tga gaa aaa aat atc tct ctt ttt ttg tgg ggg ggc gca cat att ttt ttg tgg ggt gtg tga gaa aat atc tcc cca caa aaa aag agt gtt ttc tca cat atg tgt gtt tta taa aag aga gac acc ccc ccg cgc gcg cgc gcc\n"
     ]
    }
   ],
   "source": [
    "y_data\n",
    "print(dna_texts[3])"
   ]
  },
  {
   "cell_type": "code",
   "execution_count": 39,
   "id": "3bc40d77",
   "metadata": {},
   "outputs": [
    {
     "data": {
      "text/plain": [
       "array([1, 1, 1, ..., 2, 2, 2], dtype=int64)"
      ]
     },
     "execution_count": 39,
     "metadata": {},
     "output_type": "execute_result"
    }
   ],
   "source": [
    "y_data"
   ]
  },
  {
   "cell_type": "markdown",
   "id": "fcb7e6a3",
   "metadata": {},
   "source": [
    "So the target variable contains an array of class values."
   ]
  },
  {
   "cell_type": "markdown",
   "id": "5ea9d3f2",
   "metadata": {},
   "source": [
    "Creating the Bag of Words model using CountVectorizer(). This is equivalent to k-mer counting. The n-gram size of 4 was previously determined by testing.\n",
    "\n",
    "Convert our k-mer words into uniform length numerical vectors that represent counts for every k-mer in the vocabulary:"
   ]
  },
  {
   "cell_type": "code",
   "execution_count": 40,
   "id": "962437e5",
   "metadata": {},
   "outputs": [],
   "source": [
    "from sklearn.feature_extraction.text import CountVectorizer\n",
    "cv = CountVectorizer(ngram_range=(4,4)) #The n-gram size of 4 is previously determined by testing\n",
    "X = cv.fit_transform(dna_texts)"
   ]
  },
  {
   "cell_type": "code",
   "execution_count": 41,
   "id": "c2b6c9d0",
   "metadata": {},
   "outputs": [
    {
     "name": "stdout",
     "output_type": "stream",
     "text": [
      "(25537, 23292)\n"
     ]
    }
   ],
   "source": [
    "print(X.shape)\n"
   ]
  },
  {
   "cell_type": "markdown",
   "id": "4fc2ac27",
   "metadata": {},
   "source": [
    "So we have 25537 genes converted into uniform length feature vectors of 4-gram k-mer (length 3) counts."
   ]
  },
  {
   "cell_type": "markdown",
   "id": "6da292dc",
   "metadata": {},
   "source": [
    "# Splitting the dna dataset into the training set and test set\n"
   ]
  },
  {
   "cell_type": "markdown",
   "id": "0c2ecaae",
   "metadata": {},
   "source": [
    "So now that we know how to transform our DNA sequences into uniform length numerical vectors in the form of k-mer counts and ngrams, we can now go ahead and build a classification model that can predict the DNA sequence function based only on the sequence itself.\n",
    "\n",
    "Here we will use the X data to train the model, holding out 20% of the data to test the model. \n",
    "\n",
    "Next, train/test split the dataset and build simple multinomial naive Bayes classifier.\n",
    "\n"
   ]
  },
  {
   "cell_type": "code",
   "execution_count": 42,
   "id": "6b6cbafa",
   "metadata": {},
   "outputs": [],
   "source": [
    "from sklearn.model_selection import train_test_split\n",
    "X_train, X_test, y_train, y_test = train_test_split(X, \n",
    "                                                    y_data, \n",
    "                                                    test_size = 0.20, \n",
    "                                                    random_state=42)"
   ]
  },
  {
   "cell_type": "code",
   "execution_count": 43,
   "id": "a5bbf239",
   "metadata": {},
   "outputs": [
    {
     "data": {
      "text/plain": [
       "MultinomialNB(alpha=0.1, class_prior=None, fit_prior=True)"
      ]
     },
     "execution_count": 43,
     "metadata": {},
     "output_type": "execute_result"
    }
   ],
   "source": [
    "from sklearn.naive_bayes import MultinomialNB\n",
    "classifier = MultinomialNB(alpha=0.1)\n",
    "classifier.fit(X_train, y_train)"
   ]
  },
  {
   "cell_type": "markdown",
   "id": "bec331dc",
   "metadata": {},
   "source": [
    "# make predictions on the hold out test set and see how it performes on unseen data."
   ]
  },
  {
   "cell_type": "code",
   "execution_count": 44,
   "id": "53a5da1a",
   "metadata": {},
   "outputs": [],
   "source": [
    "y_pred = classifier.predict(X_test)\n",
    "\n"
   ]
  },
  {
   "cell_type": "markdown",
   "id": "343ee815",
   "metadata": {},
   "source": [
    "Now, so let's look at some model performce metrics like the confusion matrix, accuracy, precision, recall and f1 score."
   ]
  },
  {
   "cell_type": "code",
   "execution_count": 45,
   "id": "b5ef184d",
   "metadata": {},
   "outputs": [
    {
     "name": "stdout",
     "output_type": "stream",
     "text": [
      "Confusion matrix\n",
      "\n",
      "Predicted    1     2    3    4     5    6    7    8   9\n",
      "Actual                                                 \n",
      "1          207     0    0    0     0    0    0    0   0\n",
      "2            0  1042    0    0     0    1    0    1  10\n",
      "3            0     0  891    0     0    0    0    0   1\n",
      "4            0     0    0  356     0    0    0    0   0\n",
      "5            0     0    0    0  1603    0    0   64  31\n",
      "6            0     0    0    0     0  161    0    0   4\n",
      "7            0     0    0    0     0    0  156    0   0\n",
      "8            0     0    0    0     0    0    0  487   0\n",
      "9            0     0    0    0     0    0    0    0  93\n",
      "accuracy = 0.978 \n",
      "precision = 0.983 \n",
      "recall = 0.978 \n",
      "f1 = 0.979\n"
     ]
    }
   ],
   "source": [
    "from sklearn.metrics import accuracy_score, f1_score, precision_score, recall_score\n",
    "print(\"Confusion matrix\\n\")\n",
    "print(pd.crosstab(pd.Series(y_test, name='Actual'), pd.Series(y_pred, name='Predicted')))\n",
    "def get_metrics(y_test, y_predicted):\n",
    "    accuracy = accuracy_score(y_test, y_predicted)\n",
    "    precision = precision_score(y_test, y_predicted, average='weighted')\n",
    "    recall = recall_score(y_test, y_predicted, average='weighted')\n",
    "    f1 = f1_score(y_test, y_predicted, average='weighted')\n",
    "    return accuracy, precision, recall, f1\n",
    "accuracy, precision, recall, f1 = get_metrics(y_test, y_pred)\n",
    "print(\"accuracy = %.3f \\nprecision = %.3f \\nrecall = %.3f \\nf1 = %.3f\" % (accuracy, precision, recall, f1))"
   ]
  },
  {
   "cell_type": "code",
   "execution_count": null,
   "id": "015970e1",
   "metadata": {},
   "outputs": [],
   "source": []
  }
 ],
 "metadata": {
  "kernelspec": {
   "display_name": "Python 3 (ipykernel)",
   "language": "python",
   "name": "python3"
  },
  "language_info": {
   "codemirror_mode": {
    "name": "ipython",
    "version": 3
   },
   "file_extension": ".py",
   "mimetype": "text/x-python",
   "name": "python",
   "nbconvert_exporter": "python",
   "pygments_lexer": "ipython3",
   "version": "3.7.3"
  }
 },
 "nbformat": 4,
 "nbformat_minor": 5
}
